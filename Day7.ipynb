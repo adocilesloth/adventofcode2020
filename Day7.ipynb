{
 "cells": [
  {
   "cell_type": "code",
   "execution_count": 1,
   "metadata": {},
   "outputs": [],
   "source": [
    "import numpy as np"
   ]
  },
  {
   "cell_type": "markdown",
   "metadata": {},
   "source": [
    "# Part 1"
   ]
  },
  {
   "cell_type": "code",
   "execution_count": 2,
   "metadata": {},
   "outputs": [
    {
     "name": "stdout",
     "output_type": "stream",
     "text": [
      "4\n"
     ]
    }
   ],
   "source": [
    "test = ['light red bags contain 1 bright white bag, 2 muted yellow bags.',\n",
    "        'dark orange bags contain 3 bright white bags, 4 muted yellow bags.',\n",
    "        'bright white bags contain 1 shiny gold bag.',\n",
    "        'muted yellow bags contain 2 shiny gold bags, 9 faded blue bags.',\n",
    "        'shiny gold bags contain 1 dark olive bag, 2 vibrant plum bags.',\n",
    "        'dark olive bags contain 3 faded blue bags, 4 dotted black bags.',\n",
    "        'vibrant plum bags contain 5 faded blue bags, 6 dotted black bags.',\n",
    "        'faded blue bags contain no other bags.',\n",
    "        'dotted black bags contain no other bags.']\n",
    "\n",
    "target = 'shiny gold'\n",
    "\n",
    "def get_bags(data):\n",
    "    bags = {}\n",
    "    for line in data:\n",
    "        pos = line.find('bags contain')\n",
    "        outer = line[:pos-1]\n",
    "        line = line[pos+len('bags contain '):-1]\n",
    "        inner = line.split(', ')\n",
    "\n",
    "        inner_dict = {}\n",
    "        for inn in inner:\n",
    "            key = ''\n",
    "            if inn[0] != 'n':\n",
    "                value = int(inn[0])\n",
    "                if inn[-1] == 's':\n",
    "                    key = inn[2:-5]\n",
    "                else:\n",
    "                    key = inn[2:-4]\n",
    "                inner_dict[key] = value\n",
    "\n",
    "        bags[outer] = inner_dict\n",
    "    return bags\n",
    "\n",
    "def get_contains_bag(bags, target):\n",
    "    can_hold = []\n",
    "    check = [target]\n",
    "\n",
    "    while True:\n",
    "        if len(check) <= 0:\n",
    "            break\n",
    "\n",
    "        tgt = check.pop(0)\n",
    "        for bag in bags.keys():\n",
    "            if tgt in bags[bag].keys():\n",
    "                can_hold.append(bag)\n",
    "                check.append(bag)\n",
    "\n",
    "    can_hold = np.unique(can_hold)\n",
    "    return can_hold\n",
    "\n",
    "bags = get_bags(test)\n",
    "can_hold = get_contains_bag(bags, target)\n",
    "print(len(can_hold))"
   ]
  },
  {
   "cell_type": "code",
   "execution_count": 3,
   "metadata": {},
   "outputs": [
    {
     "name": "stdout",
     "output_type": "stream",
     "text": [
      "Part 1 Result: 378\n"
     ]
    }
   ],
   "source": [
    "data = np.genfromtxt('day7_input.txt', dtype=str, delimiter='\\n')\n",
    "target = 'shiny gold'\n",
    "\n",
    "bags = get_bags(data)\n",
    "can_hold = get_contains_bag(bags, target)\n",
    "print('Part 1 Result:', len(can_hold))"
   ]
  },
  {
   "cell_type": "markdown",
   "metadata": {},
   "source": [
    "# Part 2"
   ]
  },
  {
   "cell_type": "code",
   "execution_count": 4,
   "metadata": {},
   "outputs": [
    {
     "name": "stdout",
     "output_type": "stream",
     "text": [
      "126\n"
     ]
    }
   ],
   "source": [
    "test = ['shiny gold bags contain 2 dark red bags.',\n",
    "        'dark red bags contain 2 dark orange bags.',\n",
    "        'dark orange bags contain 2 dark yellow bags.',\n",
    "        'dark yellow bags contain 2 dark green bags.',\n",
    "        'dark green bags contain 2 dark blue bags.',\n",
    "        'dark blue bags contain 2 dark violet bags.',\n",
    "        'dark violet bags contain no other bags']\n",
    "\n",
    "target = 'shiny gold'\n",
    "\n",
    "bags = get_bags(test)\n",
    "\n",
    "def get_total_bags(bags, target):\n",
    "    total_bags = 0\n",
    "    check = [target]\n",
    "    while True:\n",
    "        if len(check) <= 0:\n",
    "            break\n",
    "\n",
    "        bag = check.pop(0)\n",
    "        for key in bags.keys():\n",
    "            if key == bag:\n",
    "                for key2 in bags[bag].keys():\n",
    "                    value = bags[bag][key2]\n",
    "                    for i in range(0, value):\n",
    "                        check.append(key2)\n",
    "                        total_bags += 1\n",
    "    return total_bags\n",
    "\n",
    "total_bags = get_total_bags(bags, target)\n",
    "print(total_bags)"
   ]
  },
  {
   "cell_type": "code",
   "execution_count": 5,
   "metadata": {},
   "outputs": [
    {
     "name": "stdout",
     "output_type": "stream",
     "text": [
      "Part 1 Result: 27526\n"
     ]
    }
   ],
   "source": [
    "bags = get_bags(data)\n",
    "total_bags = get_total_bags(bags, target)\n",
    "print('Part 1 Result:', total_bags)"
   ]
  },
  {
   "cell_type": "code",
   "execution_count": null,
   "metadata": {},
   "outputs": [],
   "source": []
  }
 ],
 "metadata": {
  "kernelspec": {
   "display_name": "Python 3",
   "language": "python",
   "name": "python3"
  },
  "language_info": {
   "codemirror_mode": {
    "name": "ipython",
    "version": 3
   },
   "file_extension": ".py",
   "mimetype": "text/x-python",
   "name": "python",
   "nbconvert_exporter": "python",
   "pygments_lexer": "ipython3",
   "version": "3.6.9"
  }
 },
 "nbformat": 4,
 "nbformat_minor": 4
}
