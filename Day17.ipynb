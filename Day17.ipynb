{
 "cells": [
  {
   "cell_type": "code",
   "execution_count": 1,
   "metadata": {},
   "outputs": [],
   "source": [
    "import numpy as np\n",
    "from copy import deepcopy"
   ]
  },
  {
   "cell_type": "markdown",
   "metadata": {},
   "source": [
    "# Part 1"
   ]
  },
  {
   "cell_type": "code",
   "execution_count": 2,
   "metadata": {},
   "outputs": [],
   "source": [
    "test = ['.#.',\n",
    "        '..#',\n",
    "        '###']"
   ]
  },
  {
   "cell_type": "code",
   "execution_count": 3,
   "metadata": {},
   "outputs": [],
   "source": [
    "data = np.genfromtxt('day17_input.txt', delimiter='\\n', dtype=str, comments=None)"
   ]
  },
  {
   "cell_type": "code",
   "execution_count": 4,
   "metadata": {},
   "outputs": [
    {
     "data": {
      "text/plain": [
       "({(6, 5, 0): '#',\n",
       "  (4, 5, 2): '#',\n",
       "  (4, 5, -2): '#',\n",
       "  (3, 3, 0): '#',\n",
       "  (5, 1, 1): '#',\n",
       "  (5, 1, -1): '#',\n",
       "  (4, 1, 1): '#',\n",
       "  (4, 1, -1): '#',\n",
       "  (4, 0, 1): '#',\n",
       "  (4, 0, 0): '#',\n",
       "  (4, 0, -1): '#',\n",
       "  (3, 1, 1): '#',\n",
       "  (3, 1, -1): '#',\n",
       "  (3, 0, 1): '#',\n",
       "  (3, 0, 0): '#',\n",
       "  (3, 0, -1): '#',\n",
       "  (4, 4, 3): '#',\n",
       "  (2, 3, 0): '#',\n",
       "  (4, 4, -3): '#',\n",
       "  (5, 1, 3): '#',\n",
       "  (5, 1, 2): '#',\n",
       "  (4, 1, 3): '#',\n",
       "  (4, 1, 2): '#',\n",
       "  (3, 3, 4): '#',\n",
       "  (3, 0, 2): '#',\n",
       "  (2, 0, 3): '#',\n",
       "  (2, 6, 3): '#',\n",
       "  (0, 5, 3): '#',\n",
       "  (2, 2, 0): '#',\n",
       "  (0, 3, 4): '#',\n",
       "  (0, 2, 4): '#',\n",
       "  (0, 1, 4): '#',\n",
       "  (2, 1, 1): '#',\n",
       "  (5, 1, -2): '#',\n",
       "  (5, 1, -3): '#',\n",
       "  (4, 1, -2): '#',\n",
       "  (4, 1, -3): '#',\n",
       "  (3, 3, -4): '#',\n",
       "  (3, 0, -2): '#',\n",
       "  (2, 0, -3): '#',\n",
       "  (2, 6, -3): '#',\n",
       "  (0, 5, -3): '#',\n",
       "  (2, 1, -1): '#',\n",
       "  (0, 3, -4): '#',\n",
       "  (0, 2, -4): '#',\n",
       "  (0, 1, -4): '#',\n",
       "  (2, 0, 0): '#',\n",
       "  (2, -1, 2): '#',\n",
       "  (2, -1, 1): '#',\n",
       "  (2, -2, 2): '#',\n",
       "  (2, -2, 1): '#',\n",
       "  (1, 0, 0): '#',\n",
       "  (0, 0, 0): '#',\n",
       "  (1, -1, 2): '#',\n",
       "  (1, -1, 1): '#',\n",
       "  (1, -2, 2): '#',\n",
       "  (1, -2, 1): '#',\n",
       "  (0, -1, 3): '#',\n",
       "  (0, -1, 2): '#',\n",
       "  (0, -2, 1): '#',\n",
       "  (2, -1, -1): '#',\n",
       "  (2, -1, -2): '#',\n",
       "  (2, -2, -1): '#',\n",
       "  (2, -2, -2): '#',\n",
       "  (1, -1, -1): '#',\n",
       "  (1, -1, -2): '#',\n",
       "  (1, -2, -1): '#',\n",
       "  (1, -2, -2): '#',\n",
       "  (-1, -1, 2): '#',\n",
       "  (-1, -2, 1): '#',\n",
       "  (-2, 0, 3): '#',\n",
       "  (-2, -1, 1): '#',\n",
       "  (0, -2, -1): '#',\n",
       "  (-1, -1, 0): '#',\n",
       "  (-1, -2, 0): '#',\n",
       "  (-1, -2, -1): '#',\n",
       "  (-2, -1, -1): '#',\n",
       "  (-2, -2, 0): '#',\n",
       "  (0, -1, -2): '#',\n",
       "  (0, -1, -3): '#',\n",
       "  (-1, -1, -2): '#',\n",
       "  (-2, 0, -3): '#',\n",
       "  (-3, 2, 2): '#',\n",
       "  (-3, 1, 2): '#',\n",
       "  (-3, 0, 2): '#',\n",
       "  (-2, 0, 0): '#',\n",
       "  (-3, -1, 0): '#',\n",
       "  (-3, 2, -2): '#',\n",
       "  (-3, 1, -2): '#',\n",
       "  (-3, 0, -2): '#',\n",
       "  (-1, 5, 2): '#',\n",
       "  (-1, 4, 3): '#',\n",
       "  (-2, 4, 2): '#',\n",
       "  (-2, 6, 1): '#',\n",
       "  (-2, 4, 0): '#',\n",
       "  (-1, 5, -2): '#',\n",
       "  (-2, 6, -1): '#',\n",
       "  (-2, 4, -2): '#',\n",
       "  (-1, 4, -3): '#',\n",
       "  (-4, 1, 1): '#',\n",
       "  (-4, 1, 0): '#',\n",
       "  (-4, 1, -1): '#',\n",
       "  (-4, 0, 1): '#',\n",
       "  (-4, 0, -1): '#',\n",
       "  (-3, 2, 0): '#',\n",
       "  (-4, 2, 0): '#',\n",
       "  (-5, 2, 0): '#',\n",
       "  (-5, 1, 0): '#',\n",
       "  (-5, 0, 0): '#',\n",
       "  (2, 8, 0): '#',\n",
       "  (1, 8, 0): '#',\n",
       "  (0, 8, 0): '#'},\n",
       " 112)"
      ]
     },
     "execution_count": 4,
     "metadata": {},
     "output_type": "execute_result"
    }
   ],
   "source": [
    "def get_start(data):\n",
    "    conway = {}\n",
    "    z = 0\n",
    "    for y in range(0, len(data)):\n",
    "        for x in range(0, len(data[y])):\n",
    "            if data[y][x] == '#':\n",
    "                conway[(x,y,z)] = '#'\n",
    "                \n",
    "    return conway\n",
    "\n",
    "def boot_conway(data):\n",
    "    conway = get_start(data)\n",
    "    dzv = [1,0,-1]\n",
    "    dyv = [1,0,-1]\n",
    "    dxv = [1,0,-1]\n",
    "    \n",
    "    for i in range(0, 6):\n",
    "        new_conway = {}\n",
    "        keys = list(conway.keys())\n",
    "        new_keys = []\n",
    "        for key in keys:\n",
    "            x, y, z = key\n",
    "            for dx in dxv:\n",
    "                for dy in dyv:\n",
    "                    for dz in dzv:\n",
    "                        if (x+dx,y+dy,z+dz) not in new_keys:\n",
    "                            new_keys.append((x+dx,y+dy,z+dz))\n",
    "        \n",
    "        for key in new_keys:\n",
    "            active = 0\n",
    "            x, y, z = key\n",
    "            \n",
    "            for dx in dxv:\n",
    "                for dy in dyv:\n",
    "                    for dz in dzv:\n",
    "                        if dx == 0 and dy == 0 and dz == 0:\n",
    "                            continue\n",
    "                        if (x+dx, y+dy, z+dz) in conway.keys():\n",
    "                            active += 1\n",
    "                                \n",
    "            if (x,y,z) in conway.keys():\n",
    "                if active == 2 or active == 3:\n",
    "                    new_conway[(x,y,z)] = '#'\n",
    "            elif (x,y,z) not in conway.keys():\n",
    "                if active == 3:\n",
    "                    new_conway[(x,y,z)] = '#'\n",
    "                    \n",
    "        conway = deepcopy(new_conway)\n",
    "            \n",
    "    return conway, len(conway.keys())\n",
    "            \n",
    "boot_conway(test)"
   ]
  },
  {
   "cell_type": "code",
   "execution_count": 5,
   "metadata": {},
   "outputs": [
    {
     "name": "stdout",
     "output_type": "stream",
     "text": [
      "Part 1 Result: 291\n"
     ]
    }
   ],
   "source": [
    "print('Part 1 Result:', boot_conway(data)[1])"
   ]
  },
  {
   "cell_type": "markdown",
   "metadata": {},
   "source": [
    "# Part 2"
   ]
  },
  {
   "cell_type": "code",
   "execution_count": 9,
   "metadata": {},
   "outputs": [
    {
     "name": "stdout",
     "output_type": "stream",
     "text": [
      "848\n"
     ]
    }
   ],
   "source": [
    "def get_start_4d(data):\n",
    "    conway = {}\n",
    "    z = 0\n",
    "    w = 0\n",
    "    for y in range(0, len(data)):\n",
    "        for x in range(0, len(data[y])):\n",
    "            if data[y][x] == '#':\n",
    "                conway[(x,y,z,w)] = '#'\n",
    "                \n",
    "    return conway\n",
    "\n",
    "def boot_conway_4d(data, show=False):\n",
    "    conway = get_start_4d(data)\n",
    "    dwv = [1,0,-1]\n",
    "    dzv = [1,0,-1]\n",
    "    dyv = [1,0,-1]\n",
    "    dxv = [1,0,-1]\n",
    "    \n",
    "    for i in range(0, 6):\n",
    "        new_conway = {}\n",
    "        keys = list(conway.keys())\n",
    "        new_keys = []\n",
    "        for key in keys:\n",
    "            x, y, z, w = key\n",
    "            for dx in dxv:\n",
    "                for dy in dyv:\n",
    "                    for dz in dzv:\n",
    "                        for dw in dwv:\n",
    "                            if (x+dx,y+dy,z+dz,w+dw) not in new_keys:\n",
    "                                new_keys.append((x+dx,y+dy,z+dz,w+dw))\n",
    "        \n",
    "        for key in new_keys:\n",
    "            active = 0\n",
    "            x, y, z, w = key\n",
    "            \n",
    "            for dx in dxv:\n",
    "                for dy in dyv:\n",
    "                    for dz in dzv:\n",
    "                        for dw in dwv:\n",
    "                            if dx == 0 and dy == 0 and dz == 0 and dw == 0:\n",
    "                                continue\n",
    "                            if (x+dx, y+dy, z+dz, w+dw) in conway.keys():\n",
    "                                active += 1\n",
    "                                \n",
    "            if (x,y,z,w) in conway.keys():\n",
    "                if active == 2 or active == 3:\n",
    "                    new_conway[(x,y,z,w)] = '#'\n",
    "            elif (x,y,z,w) not in conway.keys():\n",
    "                if active == 3:\n",
    "                    new_conway[(x,y,z,w)] = '#'\n",
    "                    \n",
    "        conway = deepcopy(new_conway)\n",
    "            \n",
    "    return conway, len(conway.keys())\n",
    "\n",
    "print(boot_conway_4d(test)[1])"
   ]
  },
  {
   "cell_type": "code",
   "execution_count": 10,
   "metadata": {},
   "outputs": [
    {
     "name": "stdout",
     "output_type": "stream",
     "text": [
      "Part 2 Result: 1524\n"
     ]
    }
   ],
   "source": [
    "print('Part 2 Result:', boot_conway_4d(data)[1])"
   ]
  },
  {
   "cell_type": "code",
   "execution_count": null,
   "metadata": {},
   "outputs": [],
   "source": []
  }
 ],
 "metadata": {
  "kernelspec": {
   "display_name": "Python 3",
   "language": "python",
   "name": "python3"
  },
  "language_info": {
   "codemirror_mode": {
    "name": "ipython",
    "version": 3
   },
   "file_extension": ".py",
   "mimetype": "text/x-python",
   "name": "python",
   "nbconvert_exporter": "python",
   "pygments_lexer": "ipython3",
   "version": "3.6.9"
  }
 },
 "nbformat": 4,
 "nbformat_minor": 4
}
