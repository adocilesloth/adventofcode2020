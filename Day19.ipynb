{
 "cells": [
  {
   "cell_type": "code",
   "execution_count": 1,
   "metadata": {},
   "outputs": [],
   "source": [
    "import numpy as np\n",
    "import re"
   ]
  },
  {
   "cell_type": "markdown",
   "metadata": {},
   "source": [
    "# Part 1"
   ]
  },
  {
   "cell_type": "code",
   "execution_count": 2,
   "metadata": {},
   "outputs": [],
   "source": [
    "test = ['0: 4 1 5',\n",
    "        '1: 2 3 | 3 2',\n",
    "        '2: 4 4 | 5 5',\n",
    "        '3: 4 5 | 5 4',\n",
    "        '4: \"a\"',\n",
    "        '5: \"b\"',\n",
    "        'ababbb',\n",
    "        'bababa',\n",
    "        'abbbab',\n",
    "        'aaabbb',\n",
    "        'aaaabbb']"
   ]
  },
  {
   "cell_type": "code",
   "execution_count": 3,
   "metadata": {
    "scrolled": true
   },
   "outputs": [],
   "source": [
    "data = np.genfromtxt('day19_input.txt', delimiter='\\n', dtype=str)"
   ]
  },
  {
   "cell_type": "code",
   "execution_count": 4,
   "metadata": {},
   "outputs": [
    {
     "name": "stdout",
     "output_type": "stream",
     "text": [
      "2\n"
     ]
    }
   ],
   "source": [
    "def get_rules_and_data(lines):\n",
    "    rules = {}\n",
    "    data = []\n",
    "    do_rules = True\n",
    "    \n",
    "    letters = ['a', 'b']\n",
    "    \n",
    "    for line in lines:\n",
    "        if do_rules and line[0] in letters:\n",
    "            do_rules = False\n",
    "            \n",
    "        if do_rules:\n",
    "            parts = line.split(' ')\n",
    "            idx = parts.pop(0)[:-1]\n",
    "            \n",
    "            if parts[0] == '\"a\"' or parts[0] == '\"b\"':\n",
    "                rules[idx] = parts[0][1:-1]\n",
    "                \n",
    "            elif '|' in parts:\n",
    "                rules[idx] = []\n",
    "                rule_1 = []\n",
    "                for i in range(0, len(parts)):\n",
    "                    if parts[i] == '|':\n",
    "                        rules[idx].append(rule_1)\n",
    "                        rule_1 = []\n",
    "                    else:\n",
    "                        rule_1.append(parts[i])\n",
    "                rules[idx].append(rule_1)\n",
    "            else:\n",
    "                rule_1 = []\n",
    "                for i in range(0, len(parts)):\n",
    "                    rule_1.append(parts[i])\n",
    "                rules[idx] = [rule_1]\n",
    "            \n",
    "        else:\n",
    "            data.append(line)\n",
    "            \n",
    "    return rules, data\n",
    "\n",
    "def get_regex_rule(idx, rules):\n",
    "    regex = ''\n",
    "    if type(idx) != str:\n",
    "        idx = str(idx)\n",
    "        \n",
    "    #recursive regex is unlikely to be longer than 10 times\n",
    "    #due to data string length and including otherwise repeated\n",
    "    count_8 = 10\n",
    "    count_11 = 10\n",
    "    \n",
    "    for i in range(0, len(rules[idx][0])):\n",
    "        regex += rules[idx][0][i]+' '\n",
    "    regex = regex[:-1]\n",
    "    \n",
    "    while True:\n",
    "        idxes = regex.split(' ')\n",
    "        count = len(idxes)\n",
    "        regex = ''\n",
    "        for idx in idxes:\n",
    "            if idx == 'a' or idx == 'b' or idx == '(' or idx == '|' or idx == ')':\n",
    "                regex += idx+' '\n",
    "                count -= 1\n",
    "            else:\n",
    "                if len(rules[idx]) == 2:\n",
    "                    regex += '( '\n",
    "                    for i in rules[idx][0]:\n",
    "                        regex += i+' '\n",
    "                    regex += '| '\n",
    "                    for i in rules[idx][1]:\n",
    "                        regex += i+' '\n",
    "                    regex += ') '\n",
    "                elif rules[idx] == 'a' or  rules[idx] == 'b':\n",
    "                    regex += rules[idx]+' '\n",
    "                else:\n",
    "                    for i in rules[idx][0]:\n",
    "                        regex += i+' '\n",
    "                        \n",
    "                #Subtract from the counts\n",
    "                if idx == '8':\n",
    "                    count_8 -= 1\n",
    "                elif idx == '11':\n",
    "                    count_11 -= 1\n",
    "                    \n",
    "                #if rules 8 and 11 have been edited (to be longer)\n",
    "                #and count has hit 0, set the rule to be non-recursive\n",
    "                if count_8 == 0 and len(rules['8']) > 1:\n",
    "                    rules['8'] = [rules['8'][0]]\n",
    "                elif count_11 == 0 and len(rules['11']) > 1:\n",
    "                    rules['11'] = [rules['11'][0]]\n",
    "                    \n",
    "        regex = regex[:-1]\n",
    "        if count == 0:\n",
    "            break\n",
    "    \n",
    "    regex = regex.replace(' ',  '')\n",
    "    regex = '^'+regex+'$'\n",
    "    \n",
    "    return regex\n",
    "\n",
    "def match_string(regex, data):\n",
    "    count = 0\n",
    "    for d in data:\n",
    "        if re.match(regex, d):\n",
    "            count += 1\n",
    "    return count\n",
    "\n",
    "def update_8_11(rules):\n",
    "    rules['8'] = [['42'], ['42', '8']]\n",
    "    rules['11'] = [['42', '31'], ['42', '11', '31']]\n",
    "    return rules\n",
    "\n",
    "def count_matching(test, update=False):\n",
    "    rules, data = get_rules_and_data(test)\n",
    "    if update:\n",
    "        rules = update_8_11(rules)\n",
    "    regex = get_regex_rule(0, rules)\n",
    "    count = match_string(regex, data)   \n",
    "    return count\n",
    "\n",
    "print(count_matching(test))"
   ]
  },
  {
   "cell_type": "code",
   "execution_count": 5,
   "metadata": {},
   "outputs": [
    {
     "name": "stdout",
     "output_type": "stream",
     "text": [
      "Part 2 Result: 248\n"
     ]
    }
   ],
   "source": [
    "print('Part 2 Result:', count_matching(data))"
   ]
  },
  {
   "cell_type": "markdown",
   "metadata": {},
   "source": [
    "# Part 2"
   ]
  },
  {
   "cell_type": "code",
   "execution_count": 6,
   "metadata": {},
   "outputs": [],
   "source": [
    "test1 = ['42: 9 14 | 10 1',\n",
    "         '9: 14 27 | 1 26',\n",
    "         '10: 23 14 | 28 1',\n",
    "         '1: \"a\"',\n",
    "         '11: 42 31',\n",
    "         '5: 1 14 | 15 1',\n",
    "         '19: 14 1 | 14 14',\n",
    "         '12: 24 14 | 19 1',\n",
    "         '16: 15 1 | 14 14',\n",
    "         '31: 14 17 | 1 13',\n",
    "         '6: 14 14 | 1 14',\n",
    "         '2: 1 24 | 14 4',\n",
    "         '0: 8 11',\n",
    "         '13: 14 3 | 1 12',\n",
    "         '15: 1 | 14',\n",
    "         '17: 14 2 | 1 7',\n",
    "         '23: 25 1 | 22 14',\n",
    "         '28: 16 1',\n",
    "         '4: 1 1',\n",
    "         '20: 14 14 | 1 15',\n",
    "         '3: 5 14 | 16 1',\n",
    "         '27: 1 6 | 14 18',\n",
    "         '14: \"b\"',\n",
    "         '21: 14 1 | 1 14',\n",
    "         '25: 1 1 | 1 14',\n",
    "         '22: 14 14',\n",
    "         '8: 42',\n",
    "         '26: 14 22 | 1 20',\n",
    "         '18: 15 15',\n",
    "         '7: 14 5 | 1 21',\n",
    "         '24: 14 1',\n",
    "         'abbbbbabbbaaaababbaabbbbabababbbabbbbbbabaaaa',\n",
    "         'bbabbbbaabaabba',\n",
    "         'babbbbaabbbbbabbbbbbaabaaabaaa',\n",
    "         'aaabbbbbbaaaabaababaabababbabaaabbababababaaa',\n",
    "         'bbbbbbbaaaabbbbaaabbabaaa',\n",
    "         'bbbababbbbaaaaaaaabbababaaababaabab',\n",
    "         'ababaaaaaabaaab',\n",
    "         'ababaaaaabbbaba',\n",
    "         'baabbaaaabbaaaababbaababb',\n",
    "         'abbbbabbbbaaaababbbbbbaaaababb',\n",
    "         'aaaaabbaabaaaaababaa',\n",
    "         'aaaabbaaaabbaaa',\n",
    "         'aaaabbaabbaaaaaaabbbabbbaaabbaabaaa',\n",
    "         'babaaabbbaaabaababbaabababaaab',\n",
    "         'aabbbbbaabbbaaaaaabbbbbababaaaaabbaaabba']"
   ]
  },
  {
   "cell_type": "code",
   "execution_count": 7,
   "metadata": {},
   "outputs": [
    {
     "name": "stdout",
     "output_type": "stream",
     "text": [
      "3\n",
      "12\n"
     ]
    }
   ],
   "source": [
    "print(count_matching(test1))\n",
    "print(count_matching(test1, True))"
   ]
  },
  {
   "cell_type": "code",
   "execution_count": 8,
   "metadata": {},
   "outputs": [
    {
     "name": "stdout",
     "output_type": "stream",
     "text": [
      "Part 2 Result: 381\n"
     ]
    }
   ],
   "source": [
    "print('Part 2 Result:', count_matching(data, True))"
   ]
  },
  {
   "cell_type": "code",
   "execution_count": null,
   "metadata": {},
   "outputs": [],
   "source": []
  }
 ],
 "metadata": {
  "kernelspec": {
   "display_name": "Python 3",
   "language": "python",
   "name": "python3"
  },
  "language_info": {
   "codemirror_mode": {
    "name": "ipython",
    "version": 3
   },
   "file_extension": ".py",
   "mimetype": "text/x-python",
   "name": "python",
   "nbconvert_exporter": "python",
   "pygments_lexer": "ipython3",
   "version": "3.8.5"
  }
 },
 "nbformat": 4,
 "nbformat_minor": 4
}
