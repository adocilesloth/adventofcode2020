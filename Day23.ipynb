{
 "cells": [
  {
   "cell_type": "code",
   "execution_count": 1,
   "metadata": {},
   "outputs": [],
   "source": [
    "import numpy as np\n",
    "from copy import deepcopy"
   ]
  },
  {
   "cell_type": "markdown",
   "metadata": {},
   "source": [
    "# Part 1"
   ]
  },
  {
   "cell_type": "code",
   "execution_count": 2,
   "metadata": {},
   "outputs": [],
   "source": [
    "test = '389125467'\n",
    "data = '253149867'"
   ]
  },
  {
   "cell_type": "code",
   "execution_count": 3,
   "metadata": {},
   "outputs": [
    {
     "name": "stdout",
     "output_type": "stream",
     "text": [
      "67384529\n"
     ]
    }
   ],
   "source": [
    "def play_game(data, length=len(data), moves=100):\n",
    "    cups = get_cups(data, length)\n",
    "    new_cups = deepcopy(cups)\n",
    "    \n",
    "    for i in range(0, moves):\n",
    "        #get idx of current cup\n",
    "        if i == 0:\n",
    "            idx = 0\n",
    "        else:\n",
    "            idx = np.where(np.array(cups) == cc)[0][0]\n",
    "            idx += 1\n",
    "            if idx == len(cups):\n",
    "                idx -= len(cups)\n",
    "                \n",
    "        #get current cup\n",
    "        cc = cups[idx]\n",
    "        \n",
    "        #get held three\n",
    "        three = []\n",
    "        for j in range(1, 4):\n",
    "            k = idx+j\n",
    "            if k >= len(cups):\n",
    "                k -= len(cups)\n",
    "            three.append(cups[k])\n",
    "        \n",
    "        #remove held three\n",
    "        for k in three:\n",
    "            cups.remove(k)\n",
    "        \n",
    "        #Get destination\n",
    "        idx = np.where(np.array(cups) == cc)[0][0]\n",
    "        dest = cups[idx]-1\n",
    "        if dest <= 0:\n",
    "            dest = np.max(cups)\n",
    "        while dest in three:\n",
    "            dest -= 1\n",
    "            if dest <= 0:\n",
    "                dest = np.max(cups)\n",
    "            \n",
    "        #generate next cup arrangement\n",
    "        new_cups = []\n",
    "        for j in range(0, len(cups)):\n",
    "            new_cups.append(cups[j])\n",
    "            if cups[j] == dest:\n",
    "                for k in range(0, len(three)):\n",
    "                    new_cups.append(three[k])\n",
    "        cups = deepcopy(new_cups)\n",
    "        \n",
    "    return cups\n",
    "\n",
    "def get_cups(data, length):\n",
    "    cups = []\n",
    "    for c in data:\n",
    "        cups.append(int(c))\n",
    "        \n",
    "    if length == len(data):\n",
    "        return cups\n",
    "    \n",
    "    start = np.max(cups)+1\n",
    "    for i in range(start, length+1):\n",
    "        cups.append(start)\n",
    "        \n",
    "    return cups\n",
    "\n",
    "def part_1(data):\n",
    "    \n",
    "    cups = play_game(data)\n",
    "    \n",
    "    cup_string = ''\n",
    "    i = 0\n",
    "    saving = False\n",
    "    while len(cup_string) < len(cups)-1:\n",
    "        if cups[i] == 1:\n",
    "            saving = True\n",
    "        elif saving:\n",
    "            cup_string += str(cups[i])\n",
    "        i += 1\n",
    "        if i == len(cups):\n",
    "            i -= len(cups)\n",
    "            \n",
    "    return cup_string\n",
    "    \n",
    "print(part_1(test))"
   ]
  },
  {
   "cell_type": "code",
   "execution_count": 4,
   "metadata": {},
   "outputs": [
    {
     "name": "stdout",
     "output_type": "stream",
     "text": [
      "Part 1 Result: 34952786\n"
     ]
    }
   ],
   "source": [
    "print('Part 1 Result:', part_1(data))"
   ]
  },
  {
   "cell_type": "markdown",
   "metadata": {},
   "source": [
    "# Part 2"
   ]
  },
  {
   "cell_type": "code",
   "execution_count": 5,
   "metadata": {
    "scrolled": true
   },
   "outputs": [
    {
     "name": "stdout",
     "output_type": "stream",
     "text": [
      "67384529\n",
      "Part 1 Result: 34952786\n"
     ]
    }
   ],
   "source": [
    "def play_game_dict(data, length=None, moves=100):\n",
    "    if length == None:\n",
    "        length = len(data)\n",
    "    cups = get_cups_dict(data, length)\n",
    "    nxt = int(data[0])\n",
    "    \n",
    "    for i in range(0, moves):\n",
    "        \n",
    "        #get held three\n",
    "        three = [cups[nxt]]\n",
    "        for j in range(0, 2):\n",
    "            three.append(cups[three[-1]])\n",
    "        four = cups[three[-1]]\n",
    "            \n",
    "        #get destination\n",
    "        dest = nxt-1\n",
    "        if dest == 0:\n",
    "                dest = np.max(list(cups.keys()))\n",
    "        while dest in three:\n",
    "            dest -= 1\n",
    "            if dest == 0:\n",
    "                dest = np.max(list(cups.keys()))\n",
    "                \n",
    "        #update cups\n",
    "        cups[nxt] = four\n",
    "        cups[three[-1]] = cups[dest]\n",
    "        cups[dest] = three[0]\n",
    "        \n",
    "        nxt = four\n",
    "                \n",
    "    return cups\n",
    "\n",
    "def get_cups_dict(data, length):\n",
    "    cups = {}\n",
    "    values = np.arange(1, length+1)\n",
    "    for i in range(0, len(values)-1):\n",
    "        cups[np.int64(values[i])] = np.int64(values[i+1])\n",
    "        \n",
    "    for i in range(0, len(data)-1):\n",
    "        cups[np.int64(data[i])] = np.int64(data[i+1])\n",
    "        \n",
    "    if length > len(data):\n",
    "        cups[np.int64(data[-1])] = np.int64(len(data)+1)\n",
    "        cups[np.int64(values[-1])] = np.int64(data[0])\n",
    "    else:\n",
    "        cups[np.int64(data[-1])] = np.int64(data[0])\n",
    "    \n",
    "    return cups\n",
    "            \n",
    "def part_1_dict(data, moves=100):\n",
    "    cups = play_game_dict(data, moves=moves)\n",
    "    \n",
    "    cup_string = ''\n",
    "    nxt = 1\n",
    "    while True:\n",
    "        nxt = cups[nxt]\n",
    "        if nxt == 1:\n",
    "            break\n",
    "        cup_string += str(nxt)\n",
    "        \n",
    "    return cup_string\n",
    "\n",
    "print(part_1_dict(test))\n",
    "print('Part 1 Result:', part_1_dict(data))"
   ]
  },
  {
   "cell_type": "code",
   "execution_count": 6,
   "metadata": {},
   "outputs": [
    {
     "name": "stdout",
     "output_type": "stream",
     "text": [
      "149245887792\n"
     ]
    }
   ],
   "source": [
    "def part_2(data, length=np.int64(1000000), moves=np.int64(10000000)):\n",
    "    cups = play_game_dict(data, length=length, moves=moves)\n",
    "    \n",
    "    v1 = cups[1]\n",
    "    v2 = cups[v1]\n",
    "    result = v1*v2\n",
    "    \n",
    "    return result\n",
    "\n",
    "print(part_2(test))"
   ]
  },
  {
   "cell_type": "code",
   "execution_count": 7,
   "metadata": {},
   "outputs": [
    {
     "name": "stdout",
     "output_type": "stream",
     "text": [
      "Part 2 Result: 505334281774\n"
     ]
    }
   ],
   "source": [
    "print('Part 2 Result:', part_2(data))"
   ]
  },
  {
   "cell_type": "code",
   "execution_count": null,
   "metadata": {},
   "outputs": [],
   "source": []
  }
 ],
 "metadata": {
  "kernelspec": {
   "display_name": "Python 3",
   "language": "python",
   "name": "python3"
  },
  "language_info": {
   "codemirror_mode": {
    "name": "ipython",
    "version": 3
   },
   "file_extension": ".py",
   "mimetype": "text/x-python",
   "name": "python",
   "nbconvert_exporter": "python",
   "pygments_lexer": "ipython3",
   "version": "3.8.5"
  }
 },
 "nbformat": 4,
 "nbformat_minor": 4
}
