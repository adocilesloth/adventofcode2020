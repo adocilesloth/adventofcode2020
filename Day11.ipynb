{
 "cells": [
  {
   "cell_type": "code",
   "execution_count": 1,
   "metadata": {},
   "outputs": [],
   "source": [
    "import numpy as np\n",
    "from copy import deepcopy"
   ]
  },
  {
   "cell_type": "markdown",
   "metadata": {},
   "source": [
    "# Part 1"
   ]
  },
  {
   "cell_type": "code",
   "execution_count": 2,
   "metadata": {},
   "outputs": [],
   "source": [
    "test = np.array(['L.LL.LL.LL',\n",
    "                 'LLLLLLL.LL',\n",
    "                 'L.L.L..L..',\n",
    "                 'LLLL.LL.LL',\n",
    "                 'L.LL.LL.LL',\n",
    "                 'L.LLLLL.LL',\n",
    "                 '..L.L.....',\n",
    "                 'LLLLLLLLLL',\n",
    "                 'L.LLLLLL.L',\n",
    "                 'L.LLLLL.LL'])"
   ]
  },
  {
   "cell_type": "code",
   "execution_count": 3,
   "metadata": {},
   "outputs": [],
   "source": [
    "data = np.genfromtxt('day11_input.txt', delimiter='\\n', dtype=str)"
   ]
  },
  {
   "cell_type": "code",
   "execution_count": 4,
   "metadata": {},
   "outputs": [],
   "source": [
    "def next_step(data):\n",
    "    new_data = []\n",
    "    didj = [[-1,-1], [-1,0], [-1,1], [0, -1], [0,1], [1, -1], [1, 0], [1, 1]]\n",
    "    for i in range(0, len(data)):\n",
    "        string = ''\n",
    "        for j in range(0, len(data[i])):\n",
    "            if data[i][j] == '.':\n",
    "                string += '.'\n",
    "                continue\n",
    "            \n",
    "            occupied = 0\n",
    "            for di, dj in didj:\n",
    "                idi = i+di\n",
    "                jdj = j+dj\n",
    "                if (idi >= 0 and idi < len(data) and jdj >= 0 and jdj < len(data[i])):\n",
    "                    if data[idi][jdj] == '#':\n",
    "                        occupied += 1\n",
    "                        \n",
    "            if data[i][j] == 'L' and occupied == 0:\n",
    "                string += '#'\n",
    "            elif data[i][j] == '#' and occupied >= 4:\n",
    "                string += 'L'\n",
    "            else:\n",
    "                string += data[i][j]\n",
    "                    \n",
    "        new_data.append(string)\n",
    "    new_data = np.array(new_data)\n",
    "    return new_data"
   ]
  },
  {
   "cell_type": "code",
   "execution_count": 5,
   "metadata": {},
   "outputs": [],
   "source": [
    "def get_occupied(data):\n",
    "    test_data = deepcopy(data)\n",
    "    while True:\n",
    "        new_data = next_step(test_data)\n",
    "        if np.array_equal(test_data, new_data):\n",
    "            occupied = 0\n",
    "            for i in range(0, len(new_data)):\n",
    "                for j in range(0, len(new_data[i])):\n",
    "                    if new_data[i][j] == '#':\n",
    "                        occupied += 1\n",
    "            return occupied\n",
    "        test_data = new_data"
   ]
  },
  {
   "cell_type": "code",
   "execution_count": 6,
   "metadata": {},
   "outputs": [
    {
     "name": "stdout",
     "output_type": "stream",
     "text": [
      "37\n"
     ]
    }
   ],
   "source": [
    "print(get_occupied(test))"
   ]
  },
  {
   "cell_type": "code",
   "execution_count": 7,
   "metadata": {},
   "outputs": [
    {
     "name": "stdout",
     "output_type": "stream",
     "text": [
      "Part 1 Result: 2211\n"
     ]
    }
   ],
   "source": [
    "print('Part 1 Result:', get_occupied(data))"
   ]
  },
  {
   "cell_type": "markdown",
   "metadata": {},
   "source": [
    "# Part 2"
   ]
  },
  {
   "cell_type": "code",
   "execution_count": 8,
   "metadata": {},
   "outputs": [],
   "source": [
    "def updated_next_step(data):\n",
    "    new_data = []\n",
    "    didj = [[-1,-1], [-1,0], [-1,1], [0, -1], [0,1], [1, -1], [1, 0], [1, 1]]\n",
    "    for i in range(0, len(data)):\n",
    "        string = ''\n",
    "        for j in range(0, len(data[i])):\n",
    "            if data[i][j] == '.':\n",
    "                string += '.'\n",
    "                continue\n",
    "            \n",
    "            occupied = 0\n",
    "            for di, dj in didj:\n",
    "                idi = i+di\n",
    "                jdj = j+dj\n",
    "                scanned = False\n",
    "                while True:\n",
    "                    if (idi >= 0 and idi < len(data) and jdj >= 0 and jdj < len(data[i])):\n",
    "                        if data[idi][jdj] == '#':\n",
    "                            occupied += 1\n",
    "                            scanned = True\n",
    "                        elif data[idi][jdj] == 'L':\n",
    "                            scanned = True\n",
    "                    else:\n",
    "                        break\n",
    "                    if scanned == True:\n",
    "                        break\n",
    "                            \n",
    "                    idi += di\n",
    "                    jdj += dj\n",
    "                        \n",
    "            if data[i][j] == 'L' and occupied == 0:\n",
    "                string += '#'\n",
    "            elif data[i][j] == '#' and occupied >= 5:\n",
    "                string += 'L'\n",
    "            else:\n",
    "                string += data[i][j]\n",
    "                    \n",
    "        new_data.append(string)\n",
    "    new_data = np.array(new_data)\n",
    "    return new_data"
   ]
  },
  {
   "cell_type": "code",
   "execution_count": 9,
   "metadata": {},
   "outputs": [],
   "source": [
    "def updated_get_occupied(data):\n",
    "    test_data = deepcopy(data)\n",
    "    while True:\n",
    "        new_data = updated_next_step(test_data)\n",
    "        \n",
    "        if np.array_equal(test_data, new_data):\n",
    "            occupied = 0\n",
    "            for i in range(0, len(new_data)):\n",
    "                for j in range(0, len(new_data[i])):\n",
    "                    if new_data[i][j] == '#':\n",
    "                        occupied += 1\n",
    "            return occupied\n",
    "        test_data = new_data"
   ]
  },
  {
   "cell_type": "code",
   "execution_count": 10,
   "metadata": {},
   "outputs": [
    {
     "name": "stdout",
     "output_type": "stream",
     "text": [
      "26\n"
     ]
    }
   ],
   "source": [
    "print(updated_get_occupied(test))"
   ]
  },
  {
   "cell_type": "code",
   "execution_count": 11,
   "metadata": {},
   "outputs": [
    {
     "name": "stdout",
     "output_type": "stream",
     "text": [
      "Part 2 Result: 1995\n"
     ]
    }
   ],
   "source": [
    "print('Part 2 Result:', updated_get_occupied(data))"
   ]
  },
  {
   "cell_type": "code",
   "execution_count": null,
   "metadata": {},
   "outputs": [],
   "source": []
  }
 ],
 "metadata": {
  "kernelspec": {
   "display_name": "Python 3",
   "language": "python",
   "name": "python3"
  },
  "language_info": {
   "codemirror_mode": {
    "name": "ipython",
    "version": 3
   },
   "file_extension": ".py",
   "mimetype": "text/x-python",
   "name": "python",
   "nbconvert_exporter": "python",
   "pygments_lexer": "ipython3",
   "version": "3.6.9"
  }
 },
 "nbformat": 4,
 "nbformat_minor": 4
}
