{
 "cells": [
  {
   "cell_type": "code",
   "execution_count": 1,
   "metadata": {},
   "outputs": [],
   "source": [
    "import numpy as np"
   ]
  },
  {
   "cell_type": "markdown",
   "metadata": {},
   "source": [
    "# Part 1"
   ]
  },
  {
   "cell_type": "code",
   "execution_count": 2,
   "metadata": {},
   "outputs": [],
   "source": [
    "test = ['1 + 2 * 3 + 4 * 5 + 6',\n",
    "        '1 + (2 * 3) + (4 * (5 + 6))',\n",
    "        '2 * 3 + (4 * 5)',\n",
    "        '5 + (8 * 3 + 9 + 3 * 4 * 3)',\n",
    "        '5 * 9 * (7 * 3 * 3 + 9 * 3 + (8 + 6 * 4))',\n",
    "        '((2 + 4 * 9) * (6 + 9 * 8 + 6) + 6) + 2 + 4 * 2']"
   ]
  },
  {
   "cell_type": "code",
   "execution_count": 3,
   "metadata": {},
   "outputs": [],
   "source": [
    "data = np.genfromtxt('day18_input.txt', delimiter='\\n', dtype=str)"
   ]
  },
  {
   "cell_type": "code",
   "execution_count": 4,
   "metadata": {},
   "outputs": [
    {
     "name": "stdout",
     "output_type": "stream",
     "text": [
      "[71, 51, 26, 437, 12240, 13632]\n"
     ]
    }
   ],
   "source": [
    "def new_maths(data, new_order=False):\n",
    "    results = []\n",
    "    for line in data:\n",
    "        while True:\n",
    "            chars = line.split(' ')\n",
    "\n",
    "            #find parenthesis\n",
    "            opn = []\n",
    "            cls = []\n",
    "            for i in range(0, len(chars)):\n",
    "                if chars[i][0] == '(':\n",
    "                    opn.append(i)\n",
    "                    if len(chars[i]) == 3:\n",
    "                        opn.append(i)\n",
    "                elif chars[i][-1] == ')':\n",
    "                    cls.append(i)\n",
    "                    if len(chars[i]) == 3:\n",
    "                        cls.append(i)\n",
    "\n",
    "            if len(opn) == 0:\n",
    "                if new_order:\n",
    "                    result = do_new_maths(chars)\n",
    "                else:\n",
    "                    result = do_maths(chars)\n",
    "                results.append(result)\n",
    "                break\n",
    "\n",
    "            #find nested parenthesis\n",
    "            done = False\n",
    "            for i in range(0, len(opn)):\n",
    "                for j in range(0, len(cls)):\n",
    "                    if opn[i] > cls[j]:\n",
    "                        continue\n",
    "                        \n",
    "                    #find if there is a ( between opn[i] and cls[j]\n",
    "                    opn_u = np.where(np.array(opn) > opn[i])[0]\n",
    "                    opn_l = np.where(np.array(opn) < cls[j])[0]\n",
    "                    opn_m = np.intersect1d(opn_u, opn_l)\n",
    "                    if len(opn_m) > 0:\n",
    "                        continue\n",
    "                        \n",
    "                    #find if there is a ) between opn[i] and cls[j]\n",
    "                    cls_u = np.where(np.array(cls) > opn[i])[0]\n",
    "                    cls_l = np.where(np.array(cls) < cls[j])[0]\n",
    "                    cls_m = np.intersect1d(cls_u, cls_l)\n",
    "                    if len(cls_m) > 0:\n",
    "                        continue\n",
    "                        \n",
    "                    #if parenthesis are matched, do the internal calculation\n",
    "                    sub_chars = chars[opn[i]:cls[j]+1]\n",
    "                    \n",
    "                    pad_opn = ''\n",
    "                    pad_cls = ''\n",
    "                    \n",
    "                    if len(sub_chars[0]) == 3 and sub_chars[0][0] == '(' and sub_chars[0][1] == '(':\n",
    "                        pad_opn = '('\n",
    "                    if len(sub_chars[-1]) == 3 and sub_chars[-1][-2] == ')' and sub_chars[-1][-1] == ')':\n",
    "                        pad_cls = ')'\n",
    "                    \n",
    "                    sub_chars[0] = sub_chars[0].replace('(', '')\n",
    "                    sub_chars[-1] = sub_chars[-1].replace(')', '')\n",
    "\n",
    "                    if new_order:\n",
    "                        value = do_new_maths(sub_chars)\n",
    "                    else:\n",
    "                        value = do_maths(sub_chars)\n",
    "                    chars[opn[i]] = pad_opn+str(value)+pad_cls\n",
    "                    del chars[opn[i]+1:cls[j]+1]\n",
    "\n",
    "                    done = True\n",
    "                    break\n",
    "                if done:\n",
    "                    break\n",
    "\n",
    "            line = chars[0]\n",
    "            for i in range(1, len(chars)):\n",
    "                line += ' ' + chars[i]\n",
    "                \n",
    "    return results\n",
    "        \n",
    "def do_maths(line):\n",
    "    result = int(line[0])\n",
    "    for i in range(1, len(line), 2):\n",
    "        if line[i] == '+':\n",
    "            result += int(line[i+1])\n",
    "        elif line[i] == '*':\n",
    "            result *= int(line[i+1])\n",
    "            \n",
    "    return result\n",
    "    \n",
    "        \n",
    "print(new_maths(test))"
   ]
  },
  {
   "cell_type": "code",
   "execution_count": 5,
   "metadata": {},
   "outputs": [
    {
     "name": "stdout",
     "output_type": "stream",
     "text": [
      "Part 1 Result: 6923486965641\n"
     ]
    }
   ],
   "source": [
    "print('Part 1 Result:', np.sum(new_maths(data)))"
   ]
  },
  {
   "cell_type": "markdown",
   "metadata": {},
   "source": [
    "# Part 2"
   ]
  },
  {
   "cell_type": "code",
   "execution_count": 6,
   "metadata": {},
   "outputs": [
    {
     "name": "stdout",
     "output_type": "stream",
     "text": [
      "[231, 51, 46, 1445, 669060, 23340]\n"
     ]
    }
   ],
   "source": [
    "def do_new_maths(line):\n",
    "    #addition\n",
    "    add = np.where(np.array(line) == '+')[0]\n",
    "    while len(add) > 0:\n",
    "        i = add[0]\n",
    "        value = int(line[i-1])+int(line[i+1])\n",
    "        line[i-1] = str(value)\n",
    "        del line[i:i+2]\n",
    "        add = np.where(np.array(line) == '+')[0]\n",
    "        \n",
    "    #multiplication\n",
    "    mul = np.where(np.array(line) == '*')[0]\n",
    "    while len(mul) > 0:\n",
    "        i = mul[0]\n",
    "        value = int(line[i-1])*int(line[i+1])\n",
    "        line[i-1] = str(value)\n",
    "        del line[i:i+2]\n",
    "        mul = np.where(np.array(line) == '*')[0]\n",
    "        \n",
    "    return int(line[0])\n",
    "\n",
    "print(new_maths(test, True))"
   ]
  },
  {
   "cell_type": "code",
   "execution_count": 7,
   "metadata": {},
   "outputs": [
    {
     "name": "stdout",
     "output_type": "stream",
     "text": [
      "Part 2 Result: 70722650566361\n"
     ]
    }
   ],
   "source": [
    "print('Part 2 Result:', np.sum(new_maths(data, True)))"
   ]
  },
  {
   "cell_type": "code",
   "execution_count": null,
   "metadata": {},
   "outputs": [],
   "source": []
  }
 ],
 "metadata": {
  "kernelspec": {
   "display_name": "Python 3",
   "language": "python",
   "name": "python3"
  },
  "language_info": {
   "codemirror_mode": {
    "name": "ipython",
    "version": 3
   },
   "file_extension": ".py",
   "mimetype": "text/x-python",
   "name": "python",
   "nbconvert_exporter": "python",
   "pygments_lexer": "ipython3",
   "version": "3.6.9"
  }
 },
 "nbformat": 4,
 "nbformat_minor": 4
}
