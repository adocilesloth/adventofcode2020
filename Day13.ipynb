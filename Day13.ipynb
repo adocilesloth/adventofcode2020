{
 "cells": [
  {
   "cell_type": "code",
   "execution_count": 1,
   "metadata": {},
   "outputs": [],
   "source": [
    "import numpy as np"
   ]
  },
  {
   "cell_type": "markdown",
   "metadata": {},
   "source": [
    "# Part 1"
   ]
  },
  {
   "cell_type": "code",
   "execution_count": 2,
   "metadata": {},
   "outputs": [],
   "source": [
    "test = ['939', '7,13,x,x,59,x,31,19']"
   ]
  },
  {
   "cell_type": "code",
   "execution_count": 3,
   "metadata": {},
   "outputs": [],
   "source": [
    "data = np.genfromtxt('day13_input.txt', delimiter='\\n', dtype=str)"
   ]
  },
  {
   "cell_type": "code",
   "execution_count": 4,
   "metadata": {},
   "outputs": [
    {
     "name": "stdout",
     "output_type": "stream",
     "text": [
      "5 59 295\n"
     ]
    }
   ],
   "source": [
    "def next_bus(data):\n",
    "    time = int(data[0])\n",
    "    busses = data[1].split(',')\n",
    "    \n",
    "    wait = 1e6\n",
    "    nxt_bus = -1\n",
    "    for bus in busses:\n",
    "        if bus == 'x':\n",
    "            continue\n",
    "            \n",
    "        bus = int(bus)\n",
    "        wait_time = time%bus\n",
    "        wait_time = abs(wait_time - bus)\n",
    "        \n",
    "        if wait_time < wait:\n",
    "            wait = wait_time\n",
    "            nxt_bus = bus\n",
    "            \n",
    "    return wait, nxt_bus\n",
    "\n",
    "wait, nxt_bus = next_bus(test)\n",
    "print(wait, nxt_bus, wait*nxt_bus)"
   ]
  },
  {
   "cell_type": "code",
   "execution_count": 5,
   "metadata": {},
   "outputs": [
    {
     "name": "stdout",
     "output_type": "stream",
     "text": [
      "Part 1 Result: 3246\n"
     ]
    }
   ],
   "source": [
    "wait, nxt_bus = next_bus(data)\n",
    "print('Part 1 Result:', wait*nxt_bus)"
   ]
  },
  {
   "cell_type": "markdown",
   "metadata": {},
   "source": [
    "# Part 2"
   ]
  },
  {
   "cell_type": "code",
   "execution_count": 6,
   "metadata": {},
   "outputs": [],
   "source": [
    "test1 = ['3417', '17,x,13,19']\n",
    "test2 = ['754018', '67,7,59,61']\n",
    "test3 = ['779210', '67,x,7,59,61']\n",
    "test4 = ['1261476', '67,7,x,59,61']\n",
    "test5 = ['1202161486', '1789,37,47,1889']"
   ]
  },
  {
   "cell_type": "code",
   "execution_count": 7,
   "metadata": {},
   "outputs": [
    {
     "name": "stdout",
     "output_type": "stream",
     "text": [
      "1068781 1068781\n",
      "3417 3417\n",
      "754018 754018\n",
      "779210 779210\n",
      "1261476 1261476\n",
      "1202161486 1202161486\n"
     ]
    }
   ],
   "source": [
    "#This implimentation of CRT cannot deal with large integers.\n",
    "def chinese_ramainder_therom(delta):\n",
    "    n = delta[:,1]\n",
    "    a = delta[:,1]-delta[:,0]\n",
    "    \n",
    "    n = n.tolist()\n",
    "    a = a.tolist()\n",
    "    \n",
    "    N = int(np.prod(n))\n",
    "    \n",
    "    x = 0\n",
    "    for i in range(0, len(n)):\n",
    "        y = N//n[i]\n",
    "        z = inv_mod(y, n[i])\n",
    "        print(a[i]*y*z)\n",
    "        x += a[i]*y*z\n",
    "        print(x)\n",
    "        \n",
    "    print(x, N, x%N)\n",
    "    return x%N\n",
    "\n",
    "def egcd(a, b):\n",
    "    if a == 0:\n",
    "        return b, 0, 1\n",
    "    else:\n",
    "        g, y, x = egcd(b%a, a)\n",
    "        return g, x-(b//a)*y, y\n",
    "\n",
    "def inv_mod(a, m):\n",
    "    g, x, y = egcd(a, m)\n",
    "    if g != 1:\n",
    "        raise Exception('modular inverse does not exist')\n",
    "    else:\n",
    "        return x % m\n",
    "    \n",
    "from sympy.ntheory.modular import crt\n",
    "\n",
    "def bus_sequence(data):\n",
    "    busses = data[1].split(',')\n",
    "    \n",
    "    delta = []\n",
    "    maxi = [0,0]\n",
    "    for i in range(0, len(busses)):\n",
    "        if busses[i] == 'x':\n",
    "            continue\n",
    "            \n",
    "        bus = int(busses[i])\n",
    "        delta.append([i, bus])\n",
    "        if bus > maxi[1]:\n",
    "            maxi = [i, bus]\n",
    "    delta = np.array(delta)\n",
    "    \n",
    "    n = delta[:,1]\n",
    "    a = delta[:,1]-delta[:,0]\n",
    "    time = crt(n, a)\n",
    "    return time[0]\n",
    "\n",
    "print(1068781, bus_sequence(test))\n",
    "print(test1[0], bus_sequence(test1))\n",
    "print(test2[0], bus_sequence(test2))\n",
    "print(test3[0], bus_sequence(test3))\n",
    "print(test4[0], bus_sequence(test4))\n",
    "print(test5[0], bus_sequence(test5))"
   ]
  },
  {
   "cell_type": "code",
   "execution_count": 8,
   "metadata": {},
   "outputs": [
    {
     "name": "stdout",
     "output_type": "stream",
     "text": [
      "Part 2 Result: 1010182346291467\n"
     ]
    }
   ],
   "source": [
    "print('Part 2 Result:', bus_sequence(data))"
   ]
  },
  {
   "cell_type": "code",
   "execution_count": null,
   "metadata": {},
   "outputs": [],
   "source": []
  }
 ],
 "metadata": {
  "kernelspec": {
   "display_name": "Python 3",
   "language": "python",
   "name": "python3"
  },
  "language_info": {
   "codemirror_mode": {
    "name": "ipython",
    "version": 3
   },
   "file_extension": ".py",
   "mimetype": "text/x-python",
   "name": "python",
   "nbconvert_exporter": "python",
   "pygments_lexer": "ipython3",
   "version": "3.8.5"
  }
 },
 "nbformat": 4,
 "nbformat_minor": 4
}
