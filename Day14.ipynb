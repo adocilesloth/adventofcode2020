{
 "cells": [
  {
   "cell_type": "code",
   "execution_count": 1,
   "metadata": {},
   "outputs": [],
   "source": [
    "import numpy as np"
   ]
  },
  {
   "cell_type": "markdown",
   "metadata": {},
   "source": [
    "# Part 1"
   ]
  },
  {
   "cell_type": "code",
   "execution_count": 2,
   "metadata": {},
   "outputs": [],
   "source": [
    "test = ['mask = XXXXXXXXXXXXXXXXXXXXXXXXXXXXX1XXXX0X',\n",
    "        'mem[8] = 11',\n",
    "        'mem[7] = 101',\n",
    "        'mem[8] = 0']"
   ]
  },
  {
   "cell_type": "code",
   "execution_count": 3,
   "metadata": {},
   "outputs": [],
   "source": [
    "data = np.genfromtxt('day14_input.txt', delimiter='\\n', dtype=str)"
   ]
  },
  {
   "cell_type": "code",
   "execution_count": 4,
   "metadata": {},
   "outputs": [
    {
     "name": "stdout",
     "output_type": "stream",
     "text": [
      "165\n"
     ]
    }
   ],
   "source": [
    "def get_memory(data):\n",
    "    mask = ''\n",
    "    mem = {}\n",
    "    for line in data:\n",
    "        split = line.split(' ')\n",
    "        if split[0] == 'mask':\n",
    "            mask = split[-1]\n",
    "            \n",
    "        else:\n",
    "            key = int(split[0][4:-1])\n",
    "            value = int(split[-1])\n",
    "            value = '{:036b}'.format(value)\n",
    "            #apply mask\n",
    "            masked_value = ''\n",
    "            for i in range(0, len(mask)):\n",
    "                if mask[i] == '1' or mask[i] == '0':\n",
    "                    masked_value += mask[i]\n",
    "                else:\n",
    "                    masked_value += value[i]\n",
    "            mem[key] = masked_value\n",
    "            \n",
    "    return mem\n",
    "\n",
    "def sum_memory(data):\n",
    "    mem = get_memory(data)\n",
    "    summ = 0\n",
    "    for key in mem.keys():\n",
    "        value = mem[key]\n",
    "        value = int(value, 2)\n",
    "        summ += value\n",
    "    return summ\n",
    "            \n",
    "print(sum_memory(test))"
   ]
  },
  {
   "cell_type": "code",
   "execution_count": 5,
   "metadata": {},
   "outputs": [
    {
     "name": "stdout",
     "output_type": "stream",
     "text": [
      "Part 1 Result: 8332632930672\n"
     ]
    }
   ],
   "source": [
    "print('Part 1 Result:', sum_memory(data))"
   ]
  },
  {
   "cell_type": "markdown",
   "metadata": {},
   "source": [
    "# Part 2"
   ]
  },
  {
   "cell_type": "code",
   "execution_count": 6,
   "metadata": {},
   "outputs": [],
   "source": [
    "test1 = ['mask = 000000000000000000000000000000X1001X',\n",
    "         'mem[42] = 100',\n",
    "         'mask = 00000000000000000000000000000000X0XX',\n",
    "         'mem[26] = 1']"
   ]
  },
  {
   "cell_type": "code",
   "execution_count": 7,
   "metadata": {},
   "outputs": [
    {
     "name": "stdout",
     "output_type": "stream",
     "text": [
      "208\n"
     ]
    }
   ],
   "source": [
    "def get_memory_v2(data):\n",
    "    mask = ''\n",
    "    mem = {}\n",
    "    for line in data:\n",
    "        split = line.split(' ')\n",
    "        if split[0] == 'mask':\n",
    "            mask = split[-1]\n",
    "            \n",
    "        else:\n",
    "            key = int(split[0][4:-1])\n",
    "            key = '{:036b}'.format(key)\n",
    "            keys = {}\n",
    "            \n",
    "            #apply mask\n",
    "            if mask[0] == '0':\n",
    "                keys[key[0]] = None\n",
    "            elif mask[0] == '1':\n",
    "                keys['1'] = None\n",
    "            elif mask[0] == 'X':\n",
    "                keys['0'] = None\n",
    "                keys['1'] = None\n",
    "                \n",
    "            for i in range(1, len(mask)):\n",
    "                values = keys.keys()\n",
    "                keys = {}\n",
    "                \n",
    "                for value in values:\n",
    "                    if mask[i] == '0':\n",
    "                        keys[value+key[i]] = None\n",
    "                    elif mask[i] == '1':\n",
    "                        keys[value+'1'] = None\n",
    "                    elif mask[i] == 'X':\n",
    "                        keys[value+'0'] = None\n",
    "                        keys[value+'1'] = None\n",
    "                        \n",
    "            for key in keys:\n",
    "                value = int(key, 2)\n",
    "                mem[value] = int(split[-1])\n",
    "                \n",
    "    return mem\n",
    "    \n",
    "def sum_memory_v2(data):\n",
    "    mem = get_memory_v2(data)\n",
    "    summ = 0\n",
    "    for key in mem.keys():\n",
    "        summ += mem[key]\n",
    "    return summ\n",
    "\n",
    "print(sum_memory_v2(test1))"
   ]
  },
  {
   "cell_type": "code",
   "execution_count": 8,
   "metadata": {},
   "outputs": [
    {
     "name": "stdout",
     "output_type": "stream",
     "text": [
      "Part 2 Result: 4753238784664\n"
     ]
    }
   ],
   "source": [
    "print('Part 2 Result:', sum_memory_v2(data))"
   ]
  },
  {
   "cell_type": "code",
   "execution_count": null,
   "metadata": {},
   "outputs": [],
   "source": []
  }
 ],
 "metadata": {
  "kernelspec": {
   "display_name": "Python 3",
   "language": "python",
   "name": "python3"
  },
  "language_info": {
   "codemirror_mode": {
    "name": "ipython",
    "version": 3
   },
   "file_extension": ".py",
   "mimetype": "text/x-python",
   "name": "python",
   "nbconvert_exporter": "python",
   "pygments_lexer": "ipython3",
   "version": "3.6.9"
  }
 },
 "nbformat": 4,
 "nbformat_minor": 4
}
