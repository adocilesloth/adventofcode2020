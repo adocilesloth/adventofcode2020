{
 "cells": [
  {
   "cell_type": "code",
   "execution_count": 1,
   "metadata": {},
   "outputs": [],
   "source": [
    "import numpy as np"
   ]
  },
  {
   "cell_type": "markdown",
   "metadata": {},
   "source": [
    "# Part 1"
   ]
  },
  {
   "cell_type": "code",
   "execution_count": 2,
   "metadata": {},
   "outputs": [],
   "source": [
    "test = ['sesenwnenenewseeswwswswwnenewsewsw',\n",
    "        'neeenesenwnwwswnenewnwwsewnenwseswesw',\n",
    "        'seswneswswsenwwnwse',\n",
    "        'nwnwneseeswswnenewneswwnewseswneseene',\n",
    "        'swweswneswnenwsewnwneneseenw',\n",
    "        'eesenwseswswnenwswnwnwsewwnwsene',\n",
    "        'sewnenenenesenwsewnenwwwse',\n",
    "        'wenwwweseeeweswwwnwwe',\n",
    "        'wsweesenenewnwwnwsenewsenwwsesesenwne',\n",
    "        'neeswseenwwswnwswswnw',\n",
    "        'nenwswwsewswnenenewsenwsenwnesesenew',\n",
    "        'enewnwewneswsewnwswenweswnenwsenwsw',\n",
    "        'sweneswneswneneenwnewenewwneswswnese',\n",
    "        'swwesenesewenwneswnwwneseswwne',\n",
    "        'enesenwswwswneneswsenwnewswseenwsese',\n",
    "        'wnwnesenesenenwwnenwsewesewsesesew',\n",
    "        'nenewswnwewswnenesenwnesewesw',\n",
    "        'eneswnwswnwsenenwnwnwwseeswneewsenese',\n",
    "        'neswnwewnwnwseenwseesewsenwsweewe',\n",
    "        'wseweeenwnesenwwwswnew']"
   ]
  },
  {
   "cell_type": "code",
   "execution_count": 3,
   "metadata": {},
   "outputs": [],
   "source": [
    "data = np.genfromtxt('day24_input.txt', delimiter='\\n', dtype=str)"
   ]
  },
  {
   "cell_type": "code",
   "execution_count": 4,
   "metadata": {},
   "outputs": [
    {
     "name": "stdout",
     "output_type": "stream",
     "text": [
      "10\n"
     ]
    }
   ],
   "source": [
    "def flip_tiles(data):\n",
    "    tiles = {}\n",
    "    delta = {'e':np.array([0,1]), 'se':np.array([1,0]), 'sw':np.array([1,-1]),\n",
    "             'w':np.array([0,-1]), 'nw':np.array([-1,0]), 'ne':np.array([-1,1])}\n",
    "    \n",
    "    for line in data:\n",
    "        start = np.array([0,0])\n",
    "        chars = list(line)\n",
    "        \n",
    "        while len(chars) > 0:\n",
    "            key = ''\n",
    "            c = chars.pop(0)\n",
    "            key += c\n",
    "            if c == 's' or c =='n':\n",
    "                c = chars.pop(0)\n",
    "                key += c\n",
    "            start = start+delta[key]\n",
    "            \n",
    "        start = tuple(start)\n",
    "        if start not in tiles.keys():\n",
    "            tiles[start] = True\n",
    "        else:\n",
    "            tiles[start] = not tiles[start]\n",
    "            \n",
    "    return tiles\n",
    "\n",
    "def count_black(tiles):\n",
    "    count = 0\n",
    "    for key in tiles.keys():\n",
    "        count += tiles[key]\n",
    "        \n",
    "    return count\n",
    "\n",
    "def part_1(data):\n",
    "    tiles = flip_tiles(data)\n",
    "    count = count_black(tiles)\n",
    "    return count\n",
    "\n",
    "print(part_1(test))"
   ]
  },
  {
   "cell_type": "code",
   "execution_count": 5,
   "metadata": {},
   "outputs": [
    {
     "name": "stdout",
     "output_type": "stream",
     "text": [
      "Part 1 Result: 386\n"
     ]
    }
   ],
   "source": [
    "print('Part 1 Result:', part_1(data))"
   ]
  },
  {
   "cell_type": "markdown",
   "metadata": {},
   "source": [
    "# Part 2"
   ]
  },
  {
   "cell_type": "code",
   "execution_count": 6,
   "metadata": {},
   "outputs": [
    {
     "name": "stdout",
     "output_type": "stream",
     "text": [
      "2208\n"
     ]
    }
   ],
   "source": [
    "def next_day(tiles):\n",
    "    new_tiles = {}\n",
    "    delta = {'e':np.array([0,1]), 'se':np.array([1,0]), 'sw':np.array([1,-1]),\n",
    "             'w':np.array([0,-1]), 'nw':np.array([-1,0]), 'ne':np.array([-1,1])}\n",
    "    \n",
    "    for key in tiles.keys():\n",
    "        black = tiles[key]\n",
    "        count = count_neighbours(tiles, key, delta)\n",
    "        \n",
    "        if black:\n",
    "            if count == 1 or count == 2:\n",
    "                new_tiles[key] = True\n",
    "        else:\n",
    "            if count == 2:\n",
    "                new_tiles[key] = True\n",
    "            \n",
    "        for d_key in delta.keys():\n",
    "            n_key = np.array(list(key))+delta[d_key]\n",
    "            n_key = tuple(n_key)\n",
    "            #we will do the known ones anyway, so skip\n",
    "            if n_key in tiles.keys():\n",
    "                continue\n",
    "            \n",
    "            count = count_neighbours(tiles, n_key, delta)\n",
    "            #only keep the black ones\n",
    "            if count == 2:\n",
    "                new_tiles[n_key] = True\n",
    "            \n",
    "    \n",
    "    return new_tiles\n",
    "\n",
    "def count_neighbours(tiles, key, delta):\n",
    "    key = np.array(list(key))\n",
    "    count = 0\n",
    "    for d_key in delta.keys():\n",
    "        pos = key+delta[d_key]\n",
    "        pos = tuple(pos)\n",
    "        if pos in tiles.keys():\n",
    "            count += tiles[pos]\n",
    "            \n",
    "    return count\n",
    "\n",
    "def part_2(data, verbose=False, times=100):\n",
    "    tiles = flip_tiles(data)\n",
    "    for i in range(0, times):\n",
    "        tiles = next_day(tiles)\n",
    "        if verbose:\n",
    "            count = count_black(tiles)\n",
    "            print('Day', i+1, ':', count)\n",
    "        \n",
    "    count = count_black(tiles)\n",
    "    return count\n",
    "\n",
    "print(part_2(test))"
   ]
  },
  {
   "cell_type": "code",
   "execution_count": 7,
   "metadata": {},
   "outputs": [
    {
     "name": "stdout",
     "output_type": "stream",
     "text": [
      "Part 2 Result: 4214\n"
     ]
    }
   ],
   "source": [
    "print('Part 2 Result:', part_2(data))"
   ]
  },
  {
   "cell_type": "code",
   "execution_count": null,
   "metadata": {},
   "outputs": [],
   "source": []
  }
 ],
 "metadata": {
  "kernelspec": {
   "display_name": "Python 3",
   "language": "python",
   "name": "python3"
  },
  "language_info": {
   "codemirror_mode": {
    "name": "ipython",
    "version": 3
   },
   "file_extension": ".py",
   "mimetype": "text/x-python",
   "name": "python",
   "nbconvert_exporter": "python",
   "pygments_lexer": "ipython3",
   "version": "3.8.5"
  }
 },
 "nbformat": 4,
 "nbformat_minor": 4
}
