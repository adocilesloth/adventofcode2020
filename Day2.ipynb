{
 "cells": [
  {
   "cell_type": "code",
   "execution_count": 1,
   "metadata": {},
   "outputs": [],
   "source": [
    "import numpy as np"
   ]
  },
  {
   "cell_type": "markdown",
   "metadata": {},
   "source": [
    "# Part 1"
   ]
  },
  {
   "cell_type": "code",
   "execution_count": 2,
   "metadata": {},
   "outputs": [
    {
     "name": "stdout",
     "output_type": "stream",
     "text": [
      "['a', 'b', 'c', 'd', 'e']\n",
      "['c', 'c', 'c', 'c', 'c', 'c', 'c', 'c', 'c']\n",
      "2\n"
     ]
    }
   ],
   "source": [
    "passwords = np.array([['1-3', 'a:', 'abcde'],\n",
    "                      ['1-3', 'b:', 'cdefg'],\n",
    "                      ['2-9', 'c:', 'ccccccccc']])\n",
    "good = 0\n",
    "\n",
    "for sections in passwords:   \n",
    "    mini, maxi = sections[0].split('-')\n",
    "    mini = int(mini)\n",
    "    maxi = int(maxi)\n",
    "    \n",
    "    letter = sections[1][0]\n",
    "    password = list(sections[2])\n",
    "    \n",
    "    count = 0\n",
    "    for p in password:\n",
    "        if p == letter:\n",
    "            count += 1\n",
    "    if count >= mini and count <= maxi:\n",
    "        print(password)\n",
    "        good += 1\n",
    "print(good)"
   ]
  },
  {
   "cell_type": "code",
   "execution_count": 3,
   "metadata": {},
   "outputs": [
    {
     "name": "stdout",
     "output_type": "stream",
     "text": [
      "Part 1 Result: 434\n"
     ]
    }
   ],
   "source": [
    "passwords = np.genfromtxt('day2_input.txt', dtype=str)\n",
    "good = 0\n",
    "\n",
    "for sections in passwords:   \n",
    "    mini, maxi = sections[0].split('-')\n",
    "    mini = int(mini)\n",
    "    maxi = int(maxi)\n",
    "    \n",
    "    letter = sections[1][0]\n",
    "    password = list(sections[2])\n",
    "    \n",
    "    count = 0\n",
    "    for p in password:\n",
    "        if p == letter:\n",
    "            count += 1\n",
    "    if count >= mini and count <= maxi:\n",
    "        good += 1\n",
    "print('Part 1 Result:', good)"
   ]
  },
  {
   "cell_type": "markdown",
   "metadata": {},
   "source": [
    "# Part 2"
   ]
  },
  {
   "cell_type": "code",
   "execution_count": 4,
   "metadata": {},
   "outputs": [
    {
     "name": "stdout",
     "output_type": "stream",
     "text": [
      "['a', 'b', 'c', 'd', 'e']\n",
      "1\n"
     ]
    }
   ],
   "source": [
    "passwords = np.array([['1-3', 'a:', 'abcde'],\n",
    "                      ['1-3', 'b:', 'cdefg'],\n",
    "                      ['2-9', 'c:', 'ccccccccc']])\n",
    "good = 0\n",
    "\n",
    "for sections in passwords:   \n",
    "    mini, maxi = sections[0].split('-')\n",
    "    mini = int(mini)\n",
    "    maxi = int(maxi)\n",
    "    \n",
    "    letter = sections[1][0]\n",
    "    password = list(sections[2])\n",
    "    \n",
    "    if (password[mini-1] == letter or password[maxi-1] == letter) and password[mini-1] != password[maxi-1]:\n",
    "        print(password)\n",
    "        good += 1\n",
    "print(good)"
   ]
  },
  {
   "cell_type": "code",
   "execution_count": 5,
   "metadata": {},
   "outputs": [
    {
     "name": "stdout",
     "output_type": "stream",
     "text": [
      "Part 2 Result: 509\n"
     ]
    }
   ],
   "source": [
    "passwords = np.genfromtxt('day2_input.txt', dtype=str)\n",
    "good = 0\n",
    "\n",
    "for sections in passwords:   \n",
    "    mini, maxi = sections[0].split('-')\n",
    "    mini = int(mini)\n",
    "    maxi = int(maxi)\n",
    "    \n",
    "    letter = sections[1][0]\n",
    "    password = list(sections[2])\n",
    "    \n",
    "    if (password[mini-1] == letter or password[maxi-1] == letter) and password[mini-1] != password[maxi-1]:\n",
    "        good += 1\n",
    "print('Part 2 Result:', good)"
   ]
  },
  {
   "cell_type": "code",
   "execution_count": null,
   "metadata": {},
   "outputs": [],
   "source": []
  }
 ],
 "metadata": {
  "kernelspec": {
   "display_name": "Python 3",
   "language": "python",
   "name": "python3"
  },
  "language_info": {
   "codemirror_mode": {
    "name": "ipython",
    "version": 3
   },
   "file_extension": ".py",
   "mimetype": "text/x-python",
   "name": "python",
   "nbconvert_exporter": "python",
   "pygments_lexer": "ipython3",
   "version": "3.6.9"
  }
 },
 "nbformat": 4,
 "nbformat_minor": 4
}
