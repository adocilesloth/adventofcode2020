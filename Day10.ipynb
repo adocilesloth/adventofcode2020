{
 "cells": [
  {
   "cell_type": "code",
   "execution_count": 1,
   "metadata": {},
   "outputs": [],
   "source": [
    "import numpy as np"
   ]
  },
  {
   "cell_type": "markdown",
   "metadata": {},
   "source": [
    "# Part 1"
   ]
  },
  {
   "cell_type": "code",
   "execution_count": 2,
   "metadata": {},
   "outputs": [],
   "source": [
    "test1 = np.array([16, 10, 15, 5, 1, 11, 7, 19, 6, 12, 4])\n",
    "test2 = np.array([28, 33, 18, 42, 31, 14, 46, 20, 48, 47, 24, 23, 49, 45, 19,\n",
    "                  38, 39, 11, 1, 32, 25, 35, 8, 17, 7, 9, 4, 2, 34, 10, 3])"
   ]
  },
  {
   "cell_type": "code",
   "execution_count": 3,
   "metadata": {},
   "outputs": [],
   "source": [
    "data = np.genfromtxt('day10_input.txt', delimiter='\\n', dtype=int)"
   ]
  },
  {
   "cell_type": "code",
   "execution_count": 4,
   "metadata": {},
   "outputs": [
    {
     "name": "stdout",
     "output_type": "stream",
     "text": [
      "(7, 5)\n",
      "(22, 10)\n"
     ]
    }
   ],
   "source": [
    "def get_adapter_chain(data):\n",
    "    target = np.max(data)+3\n",
    "    data = np.append(data, target)\n",
    "    pos = 0\n",
    "\n",
    "    one = 0\n",
    "    tre = 0\n",
    "    done = 0\n",
    "\n",
    "    while done < len(data):\n",
    "        l1 = np.where(data - pos == 1)[0]\n",
    "        l2 = np.where(data - pos == 2)[0]\n",
    "        l3 = np.where(data - pos == 3)[0]\n",
    "\n",
    "        if len(l1) > 0:\n",
    "            pos = data[l1][0]\n",
    "            one += 1\n",
    "        elif len(l2) > 0:\n",
    "            pos = data[l2][0]\n",
    "        elif len(l3) > 0:\n",
    "            pos = data[l3][0]\n",
    "            tre += 1\n",
    "        done += 1\n",
    "    \n",
    "    return one, tre\n",
    "\n",
    "print(get_adapter_chain(test1))\n",
    "print(get_adapter_chain(test2))"
   ]
  },
  {
   "cell_type": "code",
   "execution_count": 5,
   "metadata": {},
   "outputs": [
    {
     "name": "stdout",
     "output_type": "stream",
     "text": [
      "Part 1 Result: 2516\n"
     ]
    }
   ],
   "source": [
    "one, tre = get_adapter_chain(data)\n",
    "print('Part 1 Result:', one*tre)"
   ]
  },
  {
   "cell_type": "markdown",
   "metadata": {},
   "source": [
    "# Part 2"
   ]
  },
  {
   "cell_type": "code",
   "execution_count": 6,
   "metadata": {},
   "outputs": [],
   "source": [
    "def get_nodes(data):\n",
    "    target = np.max(data)+3\n",
    "    data = np.append(data, target)\n",
    "    data = np.append(data, 0)\n",
    "    \n",
    "    nodes = []\n",
    "    \n",
    "    for i in range(0, len(data)):\n",
    "        value = data[i]\n",
    "        in_range = np.where(np.abs(data - value) < 4)[0]\n",
    "        me = np.where(data == value)[0]\n",
    "        in_range = np.setdiff1d(in_range, me)\n",
    "        \n",
    "        if len(in_range) == 1:\n",
    "            nodes.append(value)\n",
    "            continue\n",
    "            \n",
    "        smaller = np.where(data < value)[0]\n",
    "        smaller = np.intersect1d(smaller, in_range)\n",
    "        bigger = np.where(data > value)[0]\n",
    "        bigger = np.intersect1d(bigger, in_range)\n",
    "        \n",
    "        #print(value, data[in_range], data[smaller], data[bigger])\n",
    "        \n",
    "        is_node = True\n",
    "        for j in range(0, len(smaller)):\n",
    "            for k in range(0, len(bigger)):\n",
    "                if data[bigger[k]]-data[smaller[j]] <= 3:\n",
    "                    is_node = False\n",
    "                    break\n",
    "            if is_node == False:\n",
    "                break\n",
    "                \n",
    "        if is_node:\n",
    "            nodes.append(value)\n",
    "            \n",
    "    nodes = np.array(nodes)\n",
    "    nodes = np.sort(nodes)\n",
    "    return nodes"
   ]
  },
  {
   "cell_type": "code",
   "execution_count": 7,
   "metadata": {},
   "outputs": [
    {
     "name": "stdout",
     "output_type": "stream",
     "text": [
      "8\n",
      "19208\n"
     ]
    }
   ],
   "source": [
    "def get_permutations(data):\n",
    "    nodes = get_nodes(data)\n",
    "    \n",
    "    target = np.max(data)+3\n",
    "    data = np.append(data, target)\n",
    "    data = np.append(data, 0)\n",
    "    data = np.sort(data)\n",
    "    \n",
    "    #print(data)\n",
    "    #print(nodes)\n",
    "    \n",
    "    perm = 1\n",
    "    \n",
    "    for i in range(0, len(nodes)-1):\n",
    "        above = np.where(data >= nodes[i])[0]\n",
    "        below = np.where(data <= nodes[i+1])[0]\n",
    "        route = np.intersect1d(above, below)\n",
    "        \n",
    "        if len(route) == 1 or len(route) == 2:\n",
    "            continue\n",
    "            \n",
    "        sub_perm = {}\n",
    "        for j in range(0, len(route)-1):\n",
    "            for k in range(j+1, len(route)):\n",
    "                if data[route[k]] - data[route[j]] >= 4:\n",
    "                    continue\n",
    "                    \n",
    "                #print(data[route[j]], data[route[k]])\n",
    "                \n",
    "                delta = 0\n",
    "                if data[route[j]] in sub_perm.keys():\n",
    "                    delta += sub_perm[data[route[j]]]\n",
    "                if delta == 0:\n",
    "                    delta += 1\n",
    "                \n",
    "                if data[route[k]] in sub_perm.keys():\n",
    "                    sub_perm[data[route[k]]] += delta\n",
    "                else:\n",
    "                    sub_perm[data[route[k]]] = delta               \n",
    "                \n",
    "        perm *= sub_perm[nodes[i+1]]\n",
    "        #break\n",
    "        \n",
    "    return perm\n",
    "\n",
    "print(get_permutations(test1))\n",
    "print(get_permutations(test2))"
   ]
  },
  {
   "cell_type": "code",
   "execution_count": 8,
   "metadata": {},
   "outputs": [
    {
     "name": "stdout",
     "output_type": "stream",
     "text": [
      "Part 2 Result: 296196766695424\n"
     ]
    }
   ],
   "source": [
    "print('Part 2 Result:', get_permutations(data))"
   ]
  },
  {
   "cell_type": "code",
   "execution_count": null,
   "metadata": {},
   "outputs": [],
   "source": []
  }
 ],
 "metadata": {
  "kernelspec": {
   "display_name": "Python 3",
   "language": "python",
   "name": "python3"
  },
  "language_info": {
   "codemirror_mode": {
    "name": "ipython",
    "version": 3
   },
   "file_extension": ".py",
   "mimetype": "text/x-python",
   "name": "python",
   "nbconvert_exporter": "python",
   "pygments_lexer": "ipython3",
   "version": "3.6.9"
  }
 },
 "nbformat": 4,
 "nbformat_minor": 4
}
