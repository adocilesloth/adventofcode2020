{
 "cells": [
  {
   "cell_type": "code",
   "execution_count": 1,
   "metadata": {},
   "outputs": [],
   "source": [
    "import numpy as np"
   ]
  },
  {
   "cell_type": "markdown",
   "metadata": {},
   "source": [
    "# Part 1"
   ]
  },
  {
   "cell_type": "code",
   "execution_count": 2,
   "metadata": {},
   "outputs": [
    {
     "name": "stdout",
     "output_type": "stream",
     "text": [
      "1721 299 514579\n"
     ]
    }
   ],
   "source": [
    "test = np.array([1721, 979, 366, 299, 675, 1456])\n",
    "done = False\n",
    "for i in range(0, len(test)-1):\n",
    "    for j in range(i, len(test)):\n",
    "        if test[i]+test[j] == 2020:\n",
    "            print(test[i], test[j], test[i]*test[j])\n",
    "            done = True\n",
    "            break\n",
    "    if done:\n",
    "        break"
   ]
  },
  {
   "cell_type": "code",
   "execution_count": 3,
   "metadata": {},
   "outputs": [
    {
     "name": "stdout",
     "output_type": "stream",
     "text": [
      "1263 757 956091\n",
      "Part 1 Result: 956091\n"
     ]
    }
   ],
   "source": [
    "inpt = np.genfromtxt('day1_input.txt', dtype=np.int32)\n",
    "done = False\n",
    "for i in range(0, len(inpt)-1):\n",
    "    for j in range(i, len(inpt)):\n",
    "        if inpt[i]+inpt[j] == 2020:\n",
    "            print(inpt[i], inpt[j], inpt[i]*inpt[j])\n",
    "            print('Part 1 Result:', inpt[i]*inpt[j])\n",
    "            done = True\n",
    "            break\n",
    "    if done:\n",
    "        break"
   ]
  },
  {
   "cell_type": "markdown",
   "metadata": {},
   "source": [
    "# Part 2"
   ]
  },
  {
   "cell_type": "code",
   "execution_count": 4,
   "metadata": {},
   "outputs": [
    {
     "name": "stdout",
     "output_type": "stream",
     "text": [
      "979 366 675 241861950\n"
     ]
    }
   ],
   "source": [
    "test = np.array([1721, 979, 366, 299, 675, 1456])\n",
    "done = False\n",
    "for i in range(0, len(test)-2):\n",
    "    for j in range(i, len(test)-1):\n",
    "        for k in range(j, len(test)):\n",
    "            if test[i]+test[j]+test[k] == 2020:\n",
    "                print(test[i], test[j], test[k], test[i]*test[j]*test[k])\n",
    "                done = True\n",
    "                break\n",
    "        if done:\n",
    "            break\n",
    "    if done:\n",
    "        break"
   ]
  },
  {
   "cell_type": "code",
   "execution_count": 5,
   "metadata": {},
   "outputs": [
    {
     "name": "stdout",
     "output_type": "stream",
     "text": [
      "211 241 1568 79734368\n",
      "Part 2 Result: 79734368\n"
     ]
    }
   ],
   "source": [
    "inpt = np.genfromtxt('day1_input.txt', dtype=np.int32)\n",
    "done = False\n",
    "for i in range(0, len(inpt)-2):\n",
    "    for j in range(i, len(inpt)-1):\n",
    "        for k in range(j, len(inpt)):\n",
    "            if inpt[i]+inpt[j]+inpt[k] == 2020:\n",
    "                print(inpt[i], inpt[j], inpt[k], inpt[i]*inpt[j]*inpt[k])\n",
    "                print('Part 2 Result:', inpt[i]*inpt[j]*inpt[k])\n",
    "                done = True\n",
    "                break\n",
    "        if done:\n",
    "            break\n",
    "    if done:\n",
    "        break"
   ]
  },
  {
   "cell_type": "code",
   "execution_count": null,
   "metadata": {},
   "outputs": [],
   "source": []
  }
 ],
 "metadata": {
  "kernelspec": {
   "display_name": "Python 3",
   "language": "python",
   "name": "python3"
  },
  "language_info": {
   "codemirror_mode": {
    "name": "ipython",
    "version": 3
   },
   "file_extension": ".py",
   "mimetype": "text/x-python",
   "name": "python",
   "nbconvert_exporter": "python",
   "pygments_lexer": "ipython3",
   "version": "3.6.9"
  }
 },
 "nbformat": 4,
 "nbformat_minor": 4
}
