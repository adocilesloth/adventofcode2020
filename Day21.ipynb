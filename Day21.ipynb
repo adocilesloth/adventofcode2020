{
 "cells": [
  {
   "cell_type": "code",
   "execution_count": 1,
   "metadata": {},
   "outputs": [],
   "source": [
    "import numpy as np\n",
    "from collections import Counter"
   ]
  },
  {
   "cell_type": "markdown",
   "metadata": {},
   "source": [
    "# Part 1"
   ]
  },
  {
   "cell_type": "code",
   "execution_count": 2,
   "metadata": {},
   "outputs": [],
   "source": [
    "test = ['mxmxvkd kfcds sqjhc nhms (contains dairy, fish)',\n",
    "        'trh fvjkl sbzzf mxmxvkd (contains dairy)',\n",
    "        'sqjhc fvjkl (contains soy)',\n",
    "        'sqjhc mxmxvkd sbzzf (contains fish)']"
   ]
  },
  {
   "cell_type": "code",
   "execution_count": 3,
   "metadata": {},
   "outputs": [],
   "source": [
    "data = np.genfromtxt('day21_input.txt', delimiter='\\n', dtype=str)"
   ]
  },
  {
   "cell_type": "code",
   "execution_count": 4,
   "metadata": {},
   "outputs": [
    {
     "name": "stdout",
     "output_type": "stream",
     "text": [
      "5\n",
      "mxmxvkd,sqjhc,fvjkl\n"
     ]
    }
   ],
   "source": [
    "def get_alergens(data, part=1):\n",
    "    alle_idx = {}\n",
    "    foods = []\n",
    "    for i in range(0, len(data)):\n",
    "        line = data[i]\n",
    "        ing, eng = line.split(' (contains ')\n",
    "        \n",
    "        ingr = ing.split(' ')\n",
    "        eng = eng.replace(',', '')\n",
    "        eng = eng.replace(')', '')\n",
    "        alle = eng.split(' ')\n",
    "        \n",
    "        foods.append(ingr)\n",
    "        \n",
    "        for key in alle:\n",
    "            if key not in alle_idx.keys():\n",
    "                alle_idx[key] = []\n",
    "            alle_idx[key].append(i)\n",
    "    \n",
    "    good_num, bad = find_safe(alle_idx, foods)\n",
    "    \n",
    "    if part == 1:\n",
    "        return good_num\n",
    "    if part == 2:\n",
    "        return sort_bad(bad)\n",
    "    \n",
    "def find_safe(alle_idx, foods):\n",
    "    foods = np.array(foods)\n",
    "    bad = {}\n",
    "    \n",
    "    while True:\n",
    "        for key in alle_idx.keys():\n",
    "            idx = alle_idx[key]\n",
    "            tt = foods[idx]\n",
    "            to_test = []\n",
    "            for i in range(0, len(tt)):\n",
    "                for j in range(0, len(tt[i])):\n",
    "                    to_test.append(tt[i][j])\n",
    "                    \n",
    "            coll = Counter(to_test)\n",
    "\n",
    "            found = False\n",
    "            remove = []\n",
    "            for ckey in coll.keys():\n",
    "                if coll[ckey] == len(tt):\n",
    "                    remove.append(ckey)\n",
    "\n",
    "            if len(remove) == 1:\n",
    "                remove = remove[0]\n",
    "                bad[key] = remove\n",
    "                for i in range(0, len(foods)):\n",
    "                    try:\n",
    "                        foods[i].remove(remove)\n",
    "                    except:\n",
    "                        pass\n",
    "\n",
    "        if len(bad.keys()) == len(alle_idx.keys()):\n",
    "            break\n",
    "            \n",
    "    all_foods = []\n",
    "    for i in range(0, len(foods)):\n",
    "        for j in range(0, len(foods[i])):\n",
    "            all_foods.append(foods[i][j])\n",
    "            \n",
    "    return len(all_foods), bad\n",
    "\n",
    "def sort_bad(bad):\n",
    "    allergens = []\n",
    "    for key in bad.keys():\n",
    "        allergens.append(key)\n",
    "        \n",
    "    allergens.sort()\n",
    "    \n",
    "    cdil = ''\n",
    "    for key in allergens:\n",
    "        cdil += bad[key]+','\n",
    "    cdil = cdil[:-1]\n",
    "    \n",
    "    return cdil\n",
    "        \n",
    "print(get_alergens(test))\n",
    "print(get_alergens(test, 2))"
   ]
  },
  {
   "cell_type": "code",
   "execution_count": 5,
   "metadata": {},
   "outputs": [
    {
     "name": "stdout",
     "output_type": "stream",
     "text": [
      "Part 1 Result: 2779\n"
     ]
    }
   ],
   "source": [
    "print('Part 1 Result:', get_alergens(data))"
   ]
  },
  {
   "cell_type": "markdown",
   "metadata": {},
   "source": [
    "# Part 2"
   ]
  },
  {
   "cell_type": "code",
   "execution_count": 6,
   "metadata": {},
   "outputs": [
    {
     "name": "stdout",
     "output_type": "stream",
     "text": [
      "Part 2 Result: lkv,lfcppl,jhsrjlj,jrhvk,zkls,qjltjd,xslr,rfpbpn\n"
     ]
    }
   ],
   "source": [
    "print('Part 2 Result:', get_alergens(data, 2))"
   ]
  },
  {
   "cell_type": "code",
   "execution_count": null,
   "metadata": {},
   "outputs": [],
   "source": []
  }
 ],
 "metadata": {
  "kernelspec": {
   "display_name": "Python 3",
   "language": "python",
   "name": "python3"
  },
  "language_info": {
   "codemirror_mode": {
    "name": "ipython",
    "version": 3
   },
   "file_extension": ".py",
   "mimetype": "text/x-python",
   "name": "python",
   "nbconvert_exporter": "python",
   "pygments_lexer": "ipython3",
   "version": "3.6.9"
  }
 },
 "nbformat": 4,
 "nbformat_minor": 4
}
