{
 "cells": [
  {
   "cell_type": "code",
   "execution_count": 1,
   "metadata": {},
   "outputs": [],
   "source": [
    "import numpy as np"
   ]
  },
  {
   "cell_type": "markdown",
   "metadata": {},
   "source": [
    "# Part 1"
   ]
  },
  {
   "cell_type": "code",
   "execution_count": 2,
   "metadata": {},
   "outputs": [],
   "source": [
    "def seat(bsp, verbose=False):\n",
    "    rows = np.arange(0, 128)\n",
    "    for i in range(0, 7):\n",
    "        mid = int(len(rows)//2)\n",
    "        if bsp[i] == 'F':\n",
    "            rows = rows[:mid]\n",
    "        elif bsp[i] == 'B':\n",
    "            rows = rows[mid:]\n",
    "            \n",
    "    cols = np.arange(0, 8)\n",
    "    for i in range(7, len(bsp)):\n",
    "        mid = int(len(cols)//2)\n",
    "        if bsp[i] == 'L':\n",
    "            cols = cols[:mid]\n",
    "        elif bsp[i] == 'R':\n",
    "            cols = cols[mid:]\n",
    "            \n",
    "    seat_id = (rows[0]*8) + cols[0]\n",
    "    \n",
    "    if verbose:\n",
    "        print(rows[0], cols[0], seat_id)\n",
    "    \n",
    "    return seat_id"
   ]
  },
  {
   "cell_type": "code",
   "execution_count": 3,
   "metadata": {},
   "outputs": [
    {
     "name": "stdout",
     "output_type": "stream",
     "text": [
      "70 7 567\n",
      "14 7 119\n",
      "102 4 820\n"
     ]
    }
   ],
   "source": [
    "_ = seat('BFFFBBFRRR', True)\n",
    "_ = seat('FFFBBBFRRR', True)\n",
    "_ = seat('BBFFBBFRLL', True)"
   ]
  },
  {
   "cell_type": "code",
   "execution_count": 4,
   "metadata": {},
   "outputs": [
    {
     "name": "stdout",
     "output_type": "stream",
     "text": [
      "Part 1 Result: 874\n"
     ]
    }
   ],
   "source": [
    "bsps = np.genfromtxt('day5_input.txt', dtype=str)\n",
    "maxi = 0\n",
    "for bsp in bsps:\n",
    "    seat_id = seat(bsp)\n",
    "    if seat_id > maxi:\n",
    "        maxi = seat_id\n",
    "print('Part 1 Result:', maxi)"
   ]
  },
  {
   "cell_type": "markdown",
   "metadata": {},
   "source": [
    "# Part 2"
   ]
  },
  {
   "cell_type": "code",
   "execution_count": 5,
   "metadata": {},
   "outputs": [
    {
     "name": "stdout",
     "output_type": "stream",
     "text": [
      "Part 2 Result: 594\n"
     ]
    }
   ],
   "source": [
    "poss_ids = []\n",
    "for r in range(0, 128):\n",
    "    for c in range(0, 8):\n",
    "        poss_ids.append((r*8)+c)\n",
    "\n",
    "seat_ids = []\n",
    "for bsp in bsps:\n",
    "    seat_ids.append(seat(bsp))\n",
    "    \n",
    "diff = np.setdiff1d(poss_ids, seat_ids)\n",
    "\n",
    "for i in range(0, len(poss_ids)):\n",
    "    if poss_ids[i] != diff[i]:\n",
    "        diff = diff[i:]\n",
    "        break\n",
    "        \n",
    "for i in range(-1, -len(diff)-1, -1):\n",
    "    if poss_ids[i] != diff[i]:\n",
    "        my_seat = diff[i]\n",
    "        break\n",
    "        \n",
    "print('Part 2 Result:', my_seat)"
   ]
  },
  {
   "cell_type": "markdown",
   "metadata": {},
   "source": [
    "# Part 2 alt"
   ]
  },
  {
   "cell_type": "code",
   "execution_count": 6,
   "metadata": {},
   "outputs": [
    {
     "name": "stdout",
     "output_type": "stream",
     "text": [
      "Part 2 alt Result: 594\n"
     ]
    }
   ],
   "source": [
    "mini = maxi\n",
    "seat_ids = []\n",
    "for bsp in bsps:\n",
    "    seat_id = seat(bsp)\n",
    "    seat_ids.append(seat_id)\n",
    "    if seat_id < mini:\n",
    "        mini = seat_id\n",
    "        \n",
    "seats = np.arange(mini, maxi+1)\n",
    "my_seat = np.setdiff1d(seats, seat_ids)\n",
    "print('Part 2 alt Result:', my_seat[0])"
   ]
  },
  {
   "cell_type": "code",
   "execution_count": null,
   "metadata": {},
   "outputs": [],
   "source": []
  }
 ],
 "metadata": {
  "kernelspec": {
   "display_name": "Python 3",
   "language": "python",
   "name": "python3"
  },
  "language_info": {
   "codemirror_mode": {
    "name": "ipython",
    "version": 3
   },
   "file_extension": ".py",
   "mimetype": "text/x-python",
   "name": "python",
   "nbconvert_exporter": "python",
   "pygments_lexer": "ipython3",
   "version": "3.8.5"
  }
 },
 "nbformat": 4,
 "nbformat_minor": 4
}
