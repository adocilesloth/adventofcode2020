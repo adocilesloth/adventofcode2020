{
 "cells": [
  {
   "cell_type": "code",
   "execution_count": 1,
   "metadata": {},
   "outputs": [],
   "source": [
    "import numpy as np"
   ]
  },
  {
   "cell_type": "markdown",
   "metadata": {},
   "source": [
    "# Part 1"
   ]
  },
  {
   "cell_type": "code",
   "execution_count": 2,
   "metadata": {},
   "outputs": [],
   "source": [
    "test = np.array([5764801, 17807724]).astype(np.int64)\n",
    "data = np.genfromtxt('day25_input.txt', delimiter='\\n', dtype=np.int64)"
   ]
  },
  {
   "cell_type": "code",
   "execution_count": 3,
   "metadata": {},
   "outputs": [
    {
     "name": "stdout",
     "output_type": "stream",
     "text": [
      "8 11\n",
      "14897079\n"
     ]
    }
   ],
   "source": [
    "def transform(inpt, sn):\n",
    "    inpt *= sn\n",
    "    inpt = inpt%20201227\n",
    "    return inpt\n",
    "\n",
    "def decrypt(public_key):\n",
    "    inpt = 1\n",
    "    loop = 0\n",
    "    while True:\n",
    "        loop += 1\n",
    "        inpt = transform(inpt, 7)\n",
    "        if inpt == public_key:\n",
    "            return loop\n",
    "        \n",
    "def encrypt(sn, loop):\n",
    "    inpt = 1\n",
    "    for i in range(0, loop):\n",
    "        inpt = transform(inpt, sn)\n",
    "    return inpt\n",
    "    \n",
    "    \n",
    "def unlock(public_keys):\n",
    "    loop = decrypt(public_keys[0])\n",
    "    unlock = encrypt(public_keys[1], loop)\n",
    "    return unlock\n",
    "        \n",
    "print(decrypt(test[0]), decrypt(test[1]))\n",
    "print(unlock(test))"
   ]
  },
  {
   "cell_type": "code",
   "execution_count": 4,
   "metadata": {},
   "outputs": [
    {
     "name": "stdout",
     "output_type": "stream",
     "text": [
      "Part 1 Result: 9420461\n"
     ]
    }
   ],
   "source": [
    "print('Part 1 Result:', unlock(data))"
   ]
  },
  {
   "cell_type": "code",
   "execution_count": null,
   "metadata": {},
   "outputs": [],
   "source": []
  }
 ],
 "metadata": {
  "kernelspec": {
   "display_name": "Python 3",
   "language": "python",
   "name": "python3"
  },
  "language_info": {
   "codemirror_mode": {
    "name": "ipython",
    "version": 3
   },
   "file_extension": ".py",
   "mimetype": "text/x-python",
   "name": "python",
   "nbconvert_exporter": "python",
   "pygments_lexer": "ipython3",
   "version": "3.8.5"
  }
 },
 "nbformat": 4,
 "nbformat_minor": 4
}
