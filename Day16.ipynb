{
 "cells": [
  {
   "cell_type": "code",
   "execution_count": 1,
   "metadata": {},
   "outputs": [],
   "source": [
    "import numpy as np"
   ]
  },
  {
   "cell_type": "markdown",
   "metadata": {},
   "source": [
    "# Part 1"
   ]
  },
  {
   "cell_type": "code",
   "execution_count": 2,
   "metadata": {},
   "outputs": [],
   "source": [
    "test = ['class: 1-3 or 5-7',\n",
    "        'row: 6-11 or 33-44',\n",
    "        'seat: 13-40 or 45-50',\n",
    "        '',\n",
    "        'your ticket:',\n",
    "        '7,1,14',\n",
    "        '',\n",
    "        'nearby tickets:',\n",
    "        '7,3,47',\n",
    "        '40,4,50',\n",
    "        '55,2,20',\n",
    "        '38,6,12']"
   ]
  },
  {
   "cell_type": "code",
   "execution_count": 3,
   "metadata": {},
   "outputs": [],
   "source": [
    "data = np.genfromtxt('day16_input.txt', delimiter='\\n', dtype=str)"
   ]
  },
  {
   "cell_type": "code",
   "execution_count": 4,
   "metadata": {},
   "outputs": [
    {
     "name": "stdout",
     "output_type": "stream",
     "text": [
      "71\n"
     ]
    }
   ],
   "source": [
    "def get_ticket_data(data):\n",
    "    rules = {}\n",
    "    my_ticket = []\n",
    "    nr_ticket = []\n",
    "    typ = 'rule'\n",
    "    \n",
    "    for i in range(0, len(data)):\n",
    "        line = data[i]\n",
    "        if 'or' in line:\n",
    "            split = line.split(' ')\n",
    "            if len(split) == 4:\n",
    "                key = split[0][:-1]\n",
    "            elif len(split) == 5:\n",
    "                key = split[0]\n",
    "                key += ' '+split[1][:-1]\n",
    "            \n",
    "            low = split[-3].split('-')\n",
    "            low[0] = int(low[0])\n",
    "            low[1] = int(low[1])\n",
    "            \n",
    "            hig = split[-1].split('-')\n",
    "            hig[0] = int(hig[0])\n",
    "            hig[1] = int(hig[1])\n",
    "            \n",
    "            rules[key] = [low, hig]\n",
    "            \n",
    "        elif line == 'your ticket:':\n",
    "            i += 1\n",
    "            line = data[i]\n",
    "            my_ticket = line.split(',')\n",
    "            for j in range(0, len(my_ticket)):\n",
    "                my_ticket[j] = int(my_ticket[j])\n",
    "                \n",
    "        elif line == 'nearby tickets:':\n",
    "            while True:\n",
    "                i += 1\n",
    "                if i >= len(data):\n",
    "                    break\n",
    "                line = data[i]\n",
    "                ticket = line.split(',')\n",
    "                for j in range(0, len(ticket)):\n",
    "                    ticket[j] = int(ticket[j])\n",
    "                nr_ticket.append(ticket)\n",
    "            break\n",
    "            \n",
    "    return rules, my_ticket, nr_ticket\n",
    "\n",
    "def get_invalid_values(data):\n",
    "    rules, my_ticket, nr_ticket = get_ticket_data(data)\n",
    "    \n",
    "    bad = []\n",
    "    remove = []\n",
    "    for h in range(0, len(nr_ticket)):\n",
    "        ticket = nr_ticket[h]\n",
    "        for i in range(0, len(ticket)):\n",
    "            bad_rules = 0\n",
    "            for key in rules.keys():\n",
    "                if ticket[i] < rules[key][0][0] or ticket[i] > rules[key][1][1] or\\\n",
    "                    (ticket[i] > rules[key][0][1] and ticket[i] < rules[key][1][0]):\n",
    "                    bad_rules += 1\n",
    "            if bad_rules == len(rules.keys()):\n",
    "                bad.append(ticket[i])\n",
    "                remove.append(h)\n",
    "                \n",
    "    nr_ticket = np.delete(np.array(nr_ticket), remove, axis=0).tolist()\n",
    "                    \n",
    "    return np.sum(bad), rules, my_ticket, nr_ticket\n",
    "\n",
    "print(get_invalid_values(test)[0])"
   ]
  },
  {
   "cell_type": "code",
   "execution_count": 5,
   "metadata": {},
   "outputs": [
    {
     "name": "stdout",
     "output_type": "stream",
     "text": [
      "Part 1 Result: 23036\n"
     ]
    }
   ],
   "source": [
    "print('Part 1 Result:', get_invalid_values(data)[0])"
   ]
  },
  {
   "cell_type": "markdown",
   "metadata": {},
   "source": [
    "# Part 2"
   ]
  },
  {
   "cell_type": "code",
   "execution_count": 6,
   "metadata": {},
   "outputs": [],
   "source": [
    "test1 = ['class: 0-1 or 4-19',\n",
    "         'row: 0-5 or 8-19',\n",
    "         'seat: 0-13 or 16-19',\n",
    "         '',\n",
    "         'your ticket:',\n",
    "         '11,12,13',\n",
    "         '',\n",
    "         'nearby tickets:',\n",
    "         '3,9,18',\n",
    "         '15,1,5',\n",
    "         '5,14,9']"
   ]
  },
  {
   "cell_type": "code",
   "execution_count": 7,
   "metadata": {},
   "outputs": [
    {
     "name": "stdout",
     "output_type": "stream",
     "text": [
      "{0: 'row', 1: 'class', 2: 'seat'}\n"
     ]
    }
   ],
   "source": [
    "def get_class_names(data):\n",
    "    _, rules, my_ticket, nr_tickets = get_invalid_values(data)\n",
    "    \n",
    "    nr_tickets.append(my_ticket)\n",
    "    tickets = np.array(nr_tickets)\n",
    "    \n",
    "    possible = {}\n",
    "    for i in range(0, len(tickets[0])):\n",
    "        for key in rules.keys():\n",
    "            bad_l = np.where(tickets[:,i] < rules[key][0][0])[0]\n",
    "            bad_u = np.where(tickets[:,i] > rules[key][1][1])[0]\n",
    "            bad = np.hstack((bad_l, bad_u))\n",
    "            \n",
    "            bad_ml = np.where(tickets[:,i] > rules[key][0][1])[0]\n",
    "            bad_mu = np.where(tickets[:,i] < rules[key][1][0])[0]\n",
    "            bad_m = np.intersect1d(bad_ml, bad_mu)\n",
    "            bad = np.hstack((bad, bad_m))\n",
    "            \n",
    "            if len(bad) == 0:\n",
    "                if i not in possible.keys():\n",
    "                    possible[i] = [key]\n",
    "                else:\n",
    "                    possible[i].append(key)\n",
    "                    \n",
    "    real = {}\n",
    "    while len(real.keys()) < len(rules.keys()):\n",
    "        for key in possible.keys():\n",
    "            if len(possible[key]) == 1:\n",
    "                real[key] = possible[key][0]\n",
    "                \n",
    "        for key in real.keys():\n",
    "            for p_key in possible.keys():\n",
    "                if real[key] in possible[p_key]:\n",
    "                    possible[p_key].remove(real[key])\n",
    "                \n",
    "    return real, my_ticket\n",
    "\n",
    "def get_part_2(data):\n",
    "    real, my_ticket = get_class_names(data)\n",
    "    \n",
    "    result = 1\n",
    "    for i in range(0, len(my_ticket)):\n",
    "        if 'departure' in real[i]:\n",
    "            result *= my_ticket[i]\n",
    "            \n",
    "    return result\n",
    "    \n",
    "print(get_class_names(test1)[0])"
   ]
  },
  {
   "cell_type": "code",
   "execution_count": 8,
   "metadata": {},
   "outputs": [
    {
     "name": "stdout",
     "output_type": "stream",
     "text": [
      "Part 2 Result: 1909224687553\n"
     ]
    }
   ],
   "source": [
    "print('Part 2 Result:', get_part_2(data))"
   ]
  },
  {
   "cell_type": "code",
   "execution_count": null,
   "metadata": {},
   "outputs": [],
   "source": []
  }
 ],
 "metadata": {
  "kernelspec": {
   "display_name": "Python 3",
   "language": "python",
   "name": "python3"
  },
  "language_info": {
   "codemirror_mode": {
    "name": "ipython",
    "version": 3
   },
   "file_extension": ".py",
   "mimetype": "text/x-python",
   "name": "python",
   "nbconvert_exporter": "python",
   "pygments_lexer": "ipython3",
   "version": "3.6.9"
  }
 },
 "nbformat": 4,
 "nbformat_minor": 4
}
