{
 "cells": [
  {
   "cell_type": "code",
   "execution_count": 1,
   "metadata": {},
   "outputs": [],
   "source": [
    "import numpy as np\n",
    "from copy import deepcopy"
   ]
  },
  {
   "cell_type": "markdown",
   "metadata": {},
   "source": [
    "# Part 1"
   ]
  },
  {
   "cell_type": "code",
   "execution_count": 2,
   "metadata": {},
   "outputs": [],
   "source": [
    "code = np.genfromtxt('day8_input.txt', dtype=str, delimiter='\\n')"
   ]
  },
  {
   "cell_type": "code",
   "execution_count": 3,
   "metadata": {},
   "outputs": [],
   "source": [
    "test = ['nop +0',\n",
    "        'acc +1',\n",
    "        'jmp +4',\n",
    "        'acc +3',\n",
    "        'jmp -3',\n",
    "        'acc -99',\n",
    "        'acc +1',\n",
    "        'jmp -4',\n",
    "        'acc +6']"
   ]
  },
  {
   "cell_type": "code",
   "execution_count": 4,
   "metadata": {},
   "outputs": [],
   "source": [
    "def run_code(code):\n",
    "    i = 0\n",
    "    accumulator = 0\n",
    "    complete = False\n",
    "    visited = []\n",
    "    \n",
    "    while True:\n",
    "        visited.append(i)\n",
    "        line = code[i].split()\n",
    "        if line[0] == 'acc':\n",
    "            accumulator += int(line[1])\n",
    "            i += 1\n",
    "        elif line[0] == 'jmp':\n",
    "            i += int(line[1])\n",
    "        elif line[0] == 'nop':\n",
    "            i += 1\n",
    "        else:\n",
    "            print('Broken Input')\n",
    "        \n",
    "        if i >= len(code):\n",
    "            #print('Program Complete')\n",
    "            complete = True\n",
    "            break\n",
    "        elif i in visited:\n",
    "            #print('Program Loops')\n",
    "            break\n",
    "            \n",
    "    return accumulator, complete"
   ]
  },
  {
   "cell_type": "code",
   "execution_count": 5,
   "metadata": {},
   "outputs": [
    {
     "data": {
      "text/plain": [
       "(5, False)"
      ]
     },
     "execution_count": 5,
     "metadata": {},
     "output_type": "execute_result"
    }
   ],
   "source": [
    "run_code(test)"
   ]
  },
  {
   "cell_type": "code",
   "execution_count": 6,
   "metadata": {},
   "outputs": [
    {
     "name": "stdout",
     "output_type": "stream",
     "text": [
      "Part 1 Result: 1810\n"
     ]
    }
   ],
   "source": [
    "acc, _ = run_code(code)\n",
    "print('Part 1 Result:', acc)"
   ]
  },
  {
   "cell_type": "markdown",
   "metadata": {},
   "source": [
    "# Part 2"
   ]
  },
  {
   "cell_type": "code",
   "execution_count": 7,
   "metadata": {},
   "outputs": [],
   "source": [
    "def fix_code(code):\n",
    "    tmp_code = deepcopy(code)\n",
    "    for i in range(0, len(code)):\n",
    "        code = deepcopy(tmp_code)\n",
    "\n",
    "        line = code[i].split()\n",
    "        if line[0] == 'acc':\n",
    "            continue\n",
    "        elif line[0] == 'jmp':\n",
    "            line[0] = 'nop'\n",
    "        elif line[0] == 'nop':\n",
    "            line[0] = 'jmp'\n",
    "\n",
    "        new_line = line[0]+' '+line[1]\n",
    "        code[i] = new_line\n",
    "        accumulator, complete = run_code(code)\n",
    "        if complete:\n",
    "            return accumulator, code"
   ]
  },
  {
   "cell_type": "code",
   "execution_count": 8,
   "metadata": {},
   "outputs": [
    {
     "data": {
      "text/plain": [
       "(8,\n",
       " ['nop +0',\n",
       "  'acc +1',\n",
       "  'jmp +4',\n",
       "  'acc +3',\n",
       "  'jmp -3',\n",
       "  'acc -99',\n",
       "  'acc +1',\n",
       "  'nop -4',\n",
       "  'acc +6'])"
      ]
     },
     "execution_count": 8,
     "metadata": {},
     "output_type": "execute_result"
    }
   ],
   "source": [
    "fix_code(test)"
   ]
  },
  {
   "cell_type": "code",
   "execution_count": 9,
   "metadata": {},
   "outputs": [
    {
     "name": "stdout",
     "output_type": "stream",
     "text": [
      "Part 2 Result: 969\n"
     ]
    }
   ],
   "source": [
    "acc, _ = fix_code(code)\n",
    "print('Part 2 Result:', acc)"
   ]
  },
  {
   "cell_type": "code",
   "execution_count": null,
   "metadata": {},
   "outputs": [],
   "source": []
  }
 ],
 "metadata": {
  "kernelspec": {
   "display_name": "Python 3",
   "language": "python",
   "name": "python3"
  },
  "language_info": {
   "codemirror_mode": {
    "name": "ipython",
    "version": 3
   },
   "file_extension": ".py",
   "mimetype": "text/x-python",
   "name": "python",
   "nbconvert_exporter": "python",
   "pygments_lexer": "ipython3",
   "version": "3.6.9"
  }
 },
 "nbformat": 4,
 "nbformat_minor": 4
}
