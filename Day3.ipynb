{
 "cells": [
  {
   "cell_type": "code",
   "execution_count": 1,
   "metadata": {},
   "outputs": [],
   "source": [
    "import numpy as np"
   ]
  },
  {
   "cell_type": "markdown",
   "metadata": {},
   "source": [
    "# Part 1"
   ]
  },
  {
   "cell_type": "code",
   "execution_count": 2,
   "metadata": {},
   "outputs": [
    {
     "name": "stdout",
     "output_type": "stream",
     "text": [
      "7\n"
     ]
    }
   ],
   "source": [
    "terrain = ['..##.......',\n",
    "           '#...#...#..',\n",
    "           '.#....#..#.',\n",
    "           '..#.#...#.#',\n",
    "           '.#...##..#.',\n",
    "           '..#.##.....',\n",
    "           '.#.#.#....#',\n",
    "           '.#........#',\n",
    "           '#.##...#...',\n",
    "           '#...##....#',\n",
    "           '.#..#...#.#']\n",
    "\n",
    "trees = 0\n",
    "dy = 3\n",
    "dx = 1\n",
    "y = 0\n",
    "\n",
    "for x in range(0, len(terrain), dx):\n",
    "    if terrain[x][y] == '#':\n",
    "        trees += 1\n",
    "    y += dy\n",
    "    if y >= len(terrain[x]):\n",
    "        y -= len(terrain[x])\n",
    "        \n",
    "print(trees)"
   ]
  },
  {
   "cell_type": "code",
   "execution_count": 3,
   "metadata": {},
   "outputs": [
    {
     "name": "stdout",
     "output_type": "stream",
     "text": [
      "Part 1 result: 159\n"
     ]
    }
   ],
   "source": [
    "terrain = np.genfromtxt('day3_input.txt', dtype=str, comments=None, delimiter='\\n')\n",
    "\n",
    "trees = 0\n",
    "dy = 3\n",
    "dx = 1\n",
    "y = 0\n",
    "\n",
    "for x in range(0, len(terrain), dx):\n",
    "    if terrain[x][y] == '#':\n",
    "        trees += 1\n",
    "    y += dy\n",
    "    if y >= len(terrain[x]):\n",
    "        y -= len(terrain[x])\n",
    "        \n",
    "print('Part 1 result:', trees)"
   ]
  },
  {
   "cell_type": "markdown",
   "metadata": {},
   "source": [
    "# Part 2"
   ]
  },
  {
   "cell_type": "code",
   "execution_count": 4,
   "metadata": {},
   "outputs": [
    {
     "name": "stdout",
     "output_type": "stream",
     "text": [
      "336\n"
     ]
    }
   ],
   "source": [
    "terrain = ['..##.......',\n",
    "           '#...#...#..',\n",
    "           '.#....#..#.',\n",
    "           '..#.#...#.#',\n",
    "           '.#...##..#.',\n",
    "           '..#.##.....',\n",
    "           '.#.#.#....#',\n",
    "           '.#........#',\n",
    "           '#.##...#...',\n",
    "           '#...##....#',\n",
    "           '.#..#...#.#']\n",
    "\n",
    "dxdy = [[1,1],\n",
    "        [1,3],\n",
    "        [1,5],\n",
    "        [1,7],\n",
    "        [2,1]]\n",
    "\n",
    "prdct = 1\n",
    "for dx, dy in dxdy:\n",
    "    y = 0\n",
    "    trees = 0\n",
    "    for x in range(0, len(terrain), dx):\n",
    "        if terrain[x][y] == '#':\n",
    "            trees += 1\n",
    "        y += dy\n",
    "        if y >= len(terrain[x]):\n",
    "            y -= len(terrain[x])\n",
    "    prdct *= trees\n",
    "        \n",
    "print(prdct)"
   ]
  },
  {
   "cell_type": "code",
   "execution_count": 5,
   "metadata": {},
   "outputs": [
    {
     "name": "stdout",
     "output_type": "stream",
     "text": [
      "Part 2 result: 6419669520\n"
     ]
    }
   ],
   "source": [
    "terrain = np.genfromtxt('day3_input.txt', dtype=str, comments=None, delimiter='\\n')\n",
    "\n",
    "dxdy = [[1,1],\n",
    "        [1,3],\n",
    "        [1,5],\n",
    "        [1,7],\n",
    "        [2,1]]\n",
    "\n",
    "prdct = 1\n",
    "for dx, dy in dxdy:\n",
    "    y = 0\n",
    "    trees = 0\n",
    "    for x in range(0, len(terrain), dx):\n",
    "        if terrain[x][y] == '#':\n",
    "            trees += 1\n",
    "        y += dy\n",
    "        if y >= len(terrain[x]):\n",
    "            y -= len(terrain[x])\n",
    "    prdct *= trees\n",
    "        \n",
    "print('Part 2 result:', prdct)"
   ]
  },
  {
   "cell_type": "code",
   "execution_count": null,
   "metadata": {},
   "outputs": [],
   "source": []
  }
 ],
 "metadata": {
  "kernelspec": {
   "display_name": "Python 3",
   "language": "python",
   "name": "python3"
  },
  "language_info": {
   "codemirror_mode": {
    "name": "ipython",
    "version": 3
   },
   "file_extension": ".py",
   "mimetype": "text/x-python",
   "name": "python",
   "nbconvert_exporter": "python",
   "pygments_lexer": "ipython3",
   "version": "3.6.9"
  }
 },
 "nbformat": 4,
 "nbformat_minor": 4
}
