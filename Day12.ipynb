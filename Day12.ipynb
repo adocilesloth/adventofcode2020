{
 "cells": [
  {
   "cell_type": "code",
   "execution_count": 1,
   "metadata": {},
   "outputs": [],
   "source": [
    "import numpy as np\n",
    "from math import radians"
   ]
  },
  {
   "cell_type": "markdown",
   "metadata": {},
   "source": [
    "# Part 1"
   ]
  },
  {
   "cell_type": "code",
   "execution_count": 2,
   "metadata": {},
   "outputs": [],
   "source": [
    "test = np.array(['F10',\n",
    "                 'N3',\n",
    "                 'F7',\n",
    "                 'R90',\n",
    "                 'F11'])"
   ]
  },
  {
   "cell_type": "code",
   "execution_count": 3,
   "metadata": {},
   "outputs": [],
   "source": [
    "data = np.genfromtxt('day12_input.txt', delimiter='\\n', dtype=str)"
   ]
  },
  {
   "cell_type": "code",
   "execution_count": 4,
   "metadata": {},
   "outputs": [
    {
     "name": "stdout",
     "output_type": "stream",
     "text": [
      "[-8, 17] 25\n"
     ]
    }
   ],
   "source": [
    "def get_end_position(data):\n",
    "    pos = [0,0]\n",
    "    heading = 0\n",
    "    \n",
    "    for line in data:\n",
    "        move = line[0]\n",
    "        dist = int(line[1:])\n",
    "        \n",
    "        if move == 'N':\n",
    "            pos[0] += dist\n",
    "        elif move == 'S':\n",
    "            pos[0] -= dist\n",
    "        elif move == 'E':\n",
    "            pos[1] += dist\n",
    "        elif move == 'W':\n",
    "            pos[1] -= dist\n",
    "        elif move == 'L':\n",
    "            dist //= 90\n",
    "            heading += dist\n",
    "        elif move == 'R':\n",
    "            dist //= 90\n",
    "            heading -= dist\n",
    "        elif move == 'F':\n",
    "            if heading == 0:   #E\n",
    "                pos[1] += dist\n",
    "            elif heading == 1: #N\n",
    "                pos[0] += dist\n",
    "            elif heading == 2: #W\n",
    "                pos[1] -= dist\n",
    "            elif heading == 3: #S\n",
    "                pos[0] -= dist\n",
    "            \n",
    "        if heading > 3:\n",
    "            heading -= 4\n",
    "        elif heading < 0:\n",
    "            heading += 4\n",
    "            \n",
    "    return pos\n",
    "\n",
    "end_pos = get_end_position(test)\n",
    "print(end_pos, int(abs(end_pos[0])+abs(end_pos[1])))"
   ]
  },
  {
   "cell_type": "code",
   "execution_count": 5,
   "metadata": {},
   "outputs": [
    {
     "name": "stdout",
     "output_type": "stream",
     "text": [
      "Part 1 Result: 441\n"
     ]
    }
   ],
   "source": [
    "end_pos = get_end_position(data)\n",
    "print('Part 1 Result:', int(abs(end_pos[0])+abs(end_pos[1])))"
   ]
  },
  {
   "cell_type": "markdown",
   "metadata": {},
   "source": [
    "# Part 2"
   ]
  },
  {
   "cell_type": "code",
   "execution_count": 6,
   "metadata": {},
   "outputs": [
    {
     "name": "stdout",
     "output_type": "stream",
     "text": [
      "[-72 214] 286\n"
     ]
    }
   ],
   "source": [
    "def ship_navigation(data):\n",
    "    pos = np.array([0,0])\n",
    "    waypoint = np.array([1, 10])\n",
    "    \n",
    "    for line in data:\n",
    "        move = line[0]\n",
    "        dist = int(line[1:])\n",
    "        \n",
    "        if move == 'N':\n",
    "            waypoint[0] += dist\n",
    "        elif move == 'S':\n",
    "            waypoint[0] -= dist\n",
    "        elif move == 'E':\n",
    "            waypoint[1] += dist\n",
    "        elif move == 'W':\n",
    "            waypoint[1] -= dist\n",
    "        elif move == 'L':\n",
    "            dist //= 90\n",
    "            if dist == 1:\n",
    "                tmp = waypoint[0]\n",
    "                waypoint[0] = waypoint[1]\n",
    "                waypoint[1] = -1*tmp\n",
    "            elif dist == 2:\n",
    "                waypoint *= -1\n",
    "            elif dist == 3:\n",
    "                tmp = waypoint[0]\n",
    "                waypoint[0] = -1*waypoint[1]\n",
    "                waypoint[1] = tmp\n",
    "        elif move == 'R':\n",
    "            dist //= 90\n",
    "            if dist == 1:\n",
    "                tmp = waypoint[0]\n",
    "                waypoint[0] =-1*waypoint[1]\n",
    "                waypoint[1] = tmp\n",
    "            elif dist == 2:\n",
    "                waypoint *= -1\n",
    "            elif dist == 3:\n",
    "                tmp = waypoint[0]\n",
    "                waypoint[0] = waypoint[1]\n",
    "                waypoint[1] = -1*tmp\n",
    "        elif move == 'F':\n",
    "            pos += dist*waypoint\n",
    "            \n",
    "    return pos\n",
    "\n",
    "end_pos = ship_navigation(test)\n",
    "print(end_pos, int(abs(end_pos[0])+abs(end_pos[1])))"
   ]
  },
  {
   "cell_type": "code",
   "execution_count": 7,
   "metadata": {},
   "outputs": [
    {
     "name": "stdout",
     "output_type": "stream",
     "text": [
      "Part 1 Result: 40014\n"
     ]
    }
   ],
   "source": [
    "end_pos = ship_navigation(data)\n",
    "print('Part 1 Result:', int(abs(end_pos[0])+abs(end_pos[1])))"
   ]
  },
  {
   "cell_type": "code",
   "execution_count": null,
   "metadata": {},
   "outputs": [],
   "source": []
  }
 ],
 "metadata": {
  "kernelspec": {
   "display_name": "Python 3",
   "language": "python",
   "name": "python3"
  },
  "language_info": {
   "codemirror_mode": {
    "name": "ipython",
    "version": 3
   },
   "file_extension": ".py",
   "mimetype": "text/x-python",
   "name": "python",
   "nbconvert_exporter": "python",
   "pygments_lexer": "ipython3",
   "version": "3.8.5"
  }
 },
 "nbformat": 4,
 "nbformat_minor": 4
}
