{
 "cells": [
  {
   "cell_type": "markdown",
   "metadata": {},
   "source": [
    "# Part 1"
   ]
  },
  {
   "cell_type": "code",
   "execution_count": 1,
   "metadata": {},
   "outputs": [],
   "source": [
    "test = [0,3,6]\n",
    "test1 = [1,3,2]\n",
    "test2 = [2,1,3]\n",
    "test3 = [1,2,3]\n",
    "test4 = [2,3,1]\n",
    "test5 = [3,2,1]\n",
    "test6 = [3,1,2]"
   ]
  },
  {
   "cell_type": "code",
   "execution_count": 2,
   "metadata": {},
   "outputs": [],
   "source": [
    "data = [1,20,11,6,12,0]"
   ]
  },
  {
   "cell_type": "code",
   "execution_count": 3,
   "metadata": {},
   "outputs": [
    {
     "name": "stdout",
     "output_type": "stream",
     "text": [
      "436\n",
      "1\n",
      "10\n",
      "27\n",
      "78\n",
      "438\n",
      "1836\n"
     ]
    }
   ],
   "source": [
    "def get_value(data, target):\n",
    "    values = {}\n",
    "    for i in range(0, len(data)):\n",
    "        values[data[i]] = i\n",
    "    last = data[-1]\n",
    "    next_value = 0\n",
    "    \n",
    "    for i in range(len(data), target-1):\n",
    "        delta = 0\n",
    "        if next_value in values.keys():\n",
    "            delta = i - values[next_value]\n",
    "            \n",
    "        values[next_value] = i\n",
    "        next_value = delta\n",
    "    \n",
    "    return(next_value)\n",
    "        \n",
    "print(get_value(test, 2020))\n",
    "print(get_value(test1, 2020))\n",
    "print(get_value(test2, 2020))\n",
    "print(get_value(test3, 2020))\n",
    "print(get_value(test4, 2020))\n",
    "print(get_value(test5, 2020))\n",
    "print(get_value(test6, 2020))"
   ]
  },
  {
   "cell_type": "code",
   "execution_count": 4,
   "metadata": {},
   "outputs": [
    {
     "name": "stdout",
     "output_type": "stream",
     "text": [
      "Part 1 Result: 1085\n"
     ]
    }
   ],
   "source": [
    "print('Part 1 Result:', get_value(data, 2020))"
   ]
  },
  {
   "cell_type": "markdown",
   "metadata": {},
   "source": [
    "# Part 2"
   ]
  },
  {
   "cell_type": "code",
   "execution_count": 5,
   "metadata": {},
   "outputs": [
    {
     "name": "stdout",
     "output_type": "stream",
     "text": [
      "175594\n",
      "2578\n",
      "3544142\n",
      "261214\n",
      "6895259\n",
      "18\n",
      "362\n"
     ]
    }
   ],
   "source": [
    "print(get_value(test, 30000000))\n",
    "print(get_value(test1, 30000000))\n",
    "print(get_value(test2, 30000000))\n",
    "print(get_value(test3, 30000000))\n",
    "print(get_value(test4, 30000000))\n",
    "print(get_value(test5, 30000000))\n",
    "print(get_value(test6, 30000000))"
   ]
  },
  {
   "cell_type": "code",
   "execution_count": 6,
   "metadata": {},
   "outputs": [
    {
     "name": "stdout",
     "output_type": "stream",
     "text": [
      "Part 2 Result: 10652\n"
     ]
    }
   ],
   "source": [
    "print('Part 2 Result:', get_value(data, 30000000))"
   ]
  },
  {
   "cell_type": "code",
   "execution_count": null,
   "metadata": {},
   "outputs": [],
   "source": []
  }
 ],
 "metadata": {
  "kernelspec": {
   "display_name": "Python 3",
   "language": "python",
   "name": "python3"
  },
  "language_info": {
   "codemirror_mode": {
    "name": "ipython",
    "version": 3
   },
   "file_extension": ".py",
   "mimetype": "text/x-python",
   "name": "python",
   "nbconvert_exporter": "python",
   "pygments_lexer": "ipython3",
   "version": "3.6.9"
  }
 },
 "nbformat": 4,
 "nbformat_minor": 4
}
