{
 "cells": [
  {
   "cell_type": "code",
   "execution_count": 1,
   "metadata": {},
   "outputs": [],
   "source": [
    "import numpy as np"
   ]
  },
  {
   "cell_type": "markdown",
   "metadata": {},
   "source": [
    "# Part 1"
   ]
  },
  {
   "cell_type": "code",
   "execution_count": 2,
   "metadata": {},
   "outputs": [],
   "source": [
    "def get_unique_answers(data):\n",
    "    answers = []\n",
    "    answer = ''\n",
    "    for line in data:\n",
    "        if line == '\\n':\n",
    "            answer = ''.join(set(answer))\n",
    "            answers.append(answer)\n",
    "            answer = ''\n",
    "            continue\n",
    "\n",
    "        line = line[:-1]\n",
    "        answer += line\n",
    "    answer = ''.join(set(answer))\n",
    "    answers.append(answer)\n",
    "    return answers"
   ]
  },
  {
   "cell_type": "code",
   "execution_count": 3,
   "metadata": {},
   "outputs": [
    {
     "name": "stdout",
     "output_type": "stream",
     "text": [
      "['bac', 'bac', 'bac', 'a', 'b']\n",
      "11\n"
     ]
    }
   ],
   "source": [
    "test = ['abc\\n', '\\n', 'a\\n', 'b\\n', 'c\\n', '\\n', 'ab\\n', 'ac\\n', '\\n', 'a\\n', 'a\\n', 'a\\n', 'a\\n', '\\n', 'b\\n']\n",
    "\n",
    "answers = get_unique_answers(test)\n",
    "print(answers)\n",
    "\n",
    "summ = 0\n",
    "for answer in answers:\n",
    "    summ += len(answer)\n",
    "print(summ)"
   ]
  },
  {
   "cell_type": "code",
   "execution_count": 4,
   "metadata": {},
   "outputs": [
    {
     "name": "stdout",
     "output_type": "stream",
     "text": [
      "Part 1 Result: 6416\n"
     ]
    }
   ],
   "source": [
    "file = open('day6_input.txt')\n",
    "data = file.readlines()\n",
    "\n",
    "answers = get_unique_answers(data)\n",
    "summ = 0\n",
    "for answer in answers:\n",
    "    summ += len(answer)\n",
    "print('Part 1 Result:', summ)"
   ]
  },
  {
   "cell_type": "markdown",
   "metadata": {},
   "source": [
    "# Part 2"
   ]
  },
  {
   "cell_type": "code",
   "execution_count": 5,
   "metadata": {},
   "outputs": [],
   "source": [
    "def get_common_answers(data):\n",
    "    answers = []\n",
    "    answer = ''\n",
    "    count = 0\n",
    "    for line in data:\n",
    "        if line == '\\n':\n",
    "            common_answer = ''\n",
    "            for char in answer:\n",
    "                if count == answer.count(char):\n",
    "                    common_answer += char\n",
    "            answer = ''.join(set(common_answer))\n",
    "            answers.append(answer)\n",
    "            \n",
    "            answer = ''\n",
    "            count = 0\n",
    "            continue\n",
    "            \n",
    "        line = line[:-1]\n",
    "        answer += line\n",
    "        count += 1\n",
    "        \n",
    "    common_answer = ''\n",
    "    for char in answer:\n",
    "        if count == answer.count(char):\n",
    "            common_answer += char\n",
    "    answer = ''.join(set(common_answer))\n",
    "    answers.append(answer)\n",
    "    \n",
    "    return answers"
   ]
  },
  {
   "cell_type": "code",
   "execution_count": 6,
   "metadata": {},
   "outputs": [
    {
     "name": "stdout",
     "output_type": "stream",
     "text": [
      "['bac', '', 'a', 'a', 'b']\n",
      "6\n"
     ]
    }
   ],
   "source": [
    "answers = get_common_answers(test)\n",
    "print(answers)\n",
    "\n",
    "summ = 0\n",
    "for answer in answers:\n",
    "    summ += len(answer)\n",
    "print(summ)"
   ]
  },
  {
   "cell_type": "code",
   "execution_count": 7,
   "metadata": {},
   "outputs": [
    {
     "name": "stdout",
     "output_type": "stream",
     "text": [
      "Part 2 Result: 3050\n"
     ]
    }
   ],
   "source": [
    "answers = get_common_answers(data)\n",
    "summ = 0\n",
    "for answer in answers:\n",
    "    summ += len(answer)\n",
    "print('Part 2 Result:', summ)"
   ]
  },
  {
   "cell_type": "code",
   "execution_count": null,
   "metadata": {},
   "outputs": [],
   "source": []
  }
 ],
 "metadata": {
  "kernelspec": {
   "display_name": "Python 3",
   "language": "python",
   "name": "python3"
  },
  "language_info": {
   "codemirror_mode": {
    "name": "ipython",
    "version": 3
   },
   "file_extension": ".py",
   "mimetype": "text/x-python",
   "name": "python",
   "nbconvert_exporter": "python",
   "pygments_lexer": "ipython3",
   "version": "3.8.5"
  }
 },
 "nbformat": 4,
 "nbformat_minor": 4
}
