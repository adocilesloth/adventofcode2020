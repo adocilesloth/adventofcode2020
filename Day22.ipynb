{
 "cells": [
  {
   "cell_type": "code",
   "execution_count": 1,
   "metadata": {},
   "outputs": [],
   "source": [
    "import numpy as np\n",
    "from copy import deepcopy"
   ]
  },
  {
   "cell_type": "markdown",
   "metadata": {},
   "source": [
    "# Part 1"
   ]
  },
  {
   "cell_type": "code",
   "execution_count": 2,
   "metadata": {},
   "outputs": [],
   "source": [
    "test = ['Player 1:', '9', '2', '6', '3', '1',\n",
    "        'Player 2:', '5', '8', '4', '7','10']"
   ]
  },
  {
   "cell_type": "code",
   "execution_count": 3,
   "metadata": {},
   "outputs": [],
   "source": [
    "data = np.genfromtxt('day22_input.txt', delimiter='\\n', dtype=str)"
   ]
  },
  {
   "cell_type": "code",
   "execution_count": 4,
   "metadata": {},
   "outputs": [
    {
     "name": "stdout",
     "output_type": "stream",
     "text": [
      "306\n"
     ]
    }
   ],
   "source": [
    "def get_decks(data):\n",
    "    deck1 = []\n",
    "    deck2 = []\n",
    "    \n",
    "    p = 0\n",
    "    for line in data:\n",
    "        if line[0] == 'P':\n",
    "            p += 1\n",
    "        elif p == 1:\n",
    "            deck1.append(int(line))\n",
    "        elif p == 2:\n",
    "            deck2.append(int(line))\n",
    "            \n",
    "    return deck1, deck2\n",
    "\n",
    "def play_game(deck1, deck2):\n",
    "    winner = 0\n",
    "    while True:\n",
    "        card1 = deck1.pop(0)\n",
    "        card2 = deck2.pop(0)\n",
    "        \n",
    "        if card1 > card2:\n",
    "            deck1.append(card1)\n",
    "            deck1.append(card2)\n",
    "        else:\n",
    "            deck2.append(card2)\n",
    "            deck2.append(card1)\n",
    "            \n",
    "        if len(deck1) == len(deck1)+len(deck2):\n",
    "            return 1, deck1\n",
    "        elif len(deck2) == len(deck1)+len(deck2):\n",
    "            return 2, deck2\n",
    "        \n",
    "def calculate_score(deck):\n",
    "    score = 0\n",
    "    for i in range(1, len(deck)+1):\n",
    "        score += (i*deck[-i])\n",
    "        \n",
    "    return score\n",
    "\n",
    "def play_combat(data):\n",
    "    deck1, deck2 = get_decks(data)\n",
    "    winner, deck = play_game(deck1, deck2)\n",
    "    score = calculate_score(deck)\n",
    "    return score\n",
    "\n",
    "print(play_combat(test))"
   ]
  },
  {
   "cell_type": "code",
   "execution_count": 5,
   "metadata": {},
   "outputs": [
    {
     "name": "stdout",
     "output_type": "stream",
     "text": [
      "Part 1 Result: 30197\n"
     ]
    }
   ],
   "source": [
    "print('Part 1 Result:', play_combat(data))"
   ]
  },
  {
   "cell_type": "markdown",
   "metadata": {},
   "source": [
    "# Part 2"
   ]
  },
  {
   "cell_type": "code",
   "execution_count": 6,
   "metadata": {},
   "outputs": [
    {
     "name": "stdout",
     "output_type": "stream",
     "text": [
      "291\n"
     ]
    }
   ],
   "source": [
    "def play_recursive_game(deck1, deck2):\n",
    "    winner = 0\n",
    "    previous_deck1 = []\n",
    "    previous_deck2 = []\n",
    "    while True:\n",
    "        if deck1 in previous_deck1 or deck2 in previous_deck2:\n",
    "            return 1, deck1\n",
    "        \n",
    "        previous_deck1.append(deepcopy(deck1))\n",
    "        previous_deck2.append(deepcopy(deck2))\n",
    "        \n",
    "        card1 = deck1.pop(0)\n",
    "        card2 = deck2.pop(0)\n",
    "        \n",
    "        if card1 <= len(deck1) and card2 <= len(deck2):\n",
    "            n_deck1 = deepcopy(deck1[:card1])\n",
    "            n_deck2 = deepcopy(deck2[:card2])\n",
    "            winner, deck = play_recursive_game(n_deck1, n_deck2)\n",
    "            \n",
    "            if winner == 1:\n",
    "                deck1.append(card1)\n",
    "                deck1.append(card2)\n",
    "            elif winner == 2:\n",
    "                deck2.append(card2)\n",
    "                deck2.append(card1)\n",
    "            \n",
    "        elif card1 > card2:\n",
    "            deck1.append(card1)\n",
    "            deck1.append(card2)\n",
    "        else:\n",
    "            deck2.append(card2)\n",
    "            deck2.append(card1)\n",
    "            \n",
    "        if len(deck2) == 0:\n",
    "            return 1, deck1\n",
    "        elif len(deck1) == 0:\n",
    "            return 2, deck2\n",
    "        \n",
    "def play_recursive_combat(data):\n",
    "    deck1, deck2 = get_decks(data)\n",
    "    winner, deck = play_recursive_game(deck1, deck2)\n",
    "    score = calculate_score(deck)\n",
    "    return score\n",
    "\n",
    "print(play_recursive_combat(test))"
   ]
  },
  {
   "cell_type": "code",
   "execution_count": 7,
   "metadata": {},
   "outputs": [
    {
     "name": "stdout",
     "output_type": "stream",
     "text": [
      "Part 2 Result: 34031\n"
     ]
    }
   ],
   "source": [
    "print('Part 2 Result:', play_recursive_combat(data))"
   ]
  },
  {
   "cell_type": "code",
   "execution_count": null,
   "metadata": {},
   "outputs": [],
   "source": []
  }
 ],
 "metadata": {
  "kernelspec": {
   "display_name": "Python 3",
   "language": "python",
   "name": "python3"
  },
  "language_info": {
   "codemirror_mode": {
    "name": "ipython",
    "version": 3
   },
   "file_extension": ".py",
   "mimetype": "text/x-python",
   "name": "python",
   "nbconvert_exporter": "python",
   "pygments_lexer": "ipython3",
   "version": "3.6.9"
  }
 },
 "nbformat": 4,
 "nbformat_minor": 4
}
