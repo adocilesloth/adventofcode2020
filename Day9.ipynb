{
 "cells": [
  {
   "cell_type": "code",
   "execution_count": 1,
   "metadata": {},
   "outputs": [],
   "source": [
    "import numpy as np"
   ]
  },
  {
   "cell_type": "markdown",
   "metadata": {},
   "source": [
    "# Part 1"
   ]
  },
  {
   "cell_type": "code",
   "execution_count": 2,
   "metadata": {},
   "outputs": [],
   "source": [
    "test = np.array([35, 20, 15, 25, 47, 40, 62, 55, 65, 95, 102, 117, 150, 182, 127, 219, 299, 277, 309, 576])"
   ]
  },
  {
   "cell_type": "code",
   "execution_count": 3,
   "metadata": {},
   "outputs": [],
   "source": [
    "data = np.genfromtxt('day9_input.txt', delimiter='\\n', dtype=int)"
   ]
  },
  {
   "cell_type": "code",
   "execution_count": 4,
   "metadata": {},
   "outputs": [
    {
     "name": "stdout",
     "output_type": "stream",
     "text": [
      "127\n"
     ]
    }
   ],
   "source": [
    "def find_bad(data, step):\n",
    "    for i in range(step, len(data)):\n",
    "        valid = False\n",
    "        value = data[i]\n",
    "        for j in range(i-step, i-1):\n",
    "            j_value = data[j]\n",
    "            for k in range(j+1, i):\n",
    "                k_value = data[k]\n",
    "                if value == j_value+k_value:\n",
    "                    valid = True\n",
    "                    break\n",
    "            if valid:\n",
    "                break\n",
    "        if valid == False:\n",
    "            return value, i\n",
    "        \n",
    "    return -1, -1\n",
    "\n",
    "test_fail, test_idx = find_bad(test, 5)\n",
    "print(test_fail)"
   ]
  },
  {
   "cell_type": "code",
   "execution_count": 5,
   "metadata": {},
   "outputs": [
    {
     "name": "stdout",
     "output_type": "stream",
     "text": [
      "Part 1 Result: 1038347917\n"
     ]
    }
   ],
   "source": [
    "fail, idx = find_bad(data, 25)\n",
    "print('Part 1 Result:', fail)"
   ]
  },
  {
   "cell_type": "markdown",
   "metadata": {},
   "source": [
    "# Part 2"
   ]
  },
  {
   "cell_type": "code",
   "execution_count": 6,
   "metadata": {},
   "outputs": [
    {
     "name": "stdout",
     "output_type": "stream",
     "text": [
      "62\n"
     ]
    }
   ],
   "source": [
    "def get_xmas(idx, data):\n",
    "    \n",
    "    target = data[idx]\n",
    "    for i in range(0, idx-2):\n",
    "        value = data[i]\n",
    "        complete = False\n",
    "        \n",
    "        for j in range(i+1, idx-2):\n",
    "            value += data[j]\n",
    "            if target == value:\n",
    "                complete = True\n",
    "                data = data[i:j+1]\n",
    "                break\n",
    "        \n",
    "        if complete:\n",
    "            break\n",
    "            \n",
    "    xmas = np.sum([np.min(data), np.max(data)])\n",
    "    return xmas\n",
    "\n",
    "print(get_xmas(test_idx, test))"
   ]
  },
  {
   "cell_type": "code",
   "execution_count": 7,
   "metadata": {},
   "outputs": [
    {
     "name": "stdout",
     "output_type": "stream",
     "text": [
      "Part 2 Result: 137394018\n"
     ]
    }
   ],
   "source": [
    "print('Part 2 Result:', get_xmas(idx, data))"
   ]
  },
  {
   "cell_type": "code",
   "execution_count": null,
   "metadata": {},
   "outputs": [],
   "source": []
  }
 ],
 "metadata": {
  "kernelspec": {
   "display_name": "Python 3",
   "language": "python",
   "name": "python3"
  },
  "language_info": {
   "codemirror_mode": {
    "name": "ipython",
    "version": 3
   },
   "file_extension": ".py",
   "mimetype": "text/x-python",
   "name": "python",
   "nbconvert_exporter": "python",
   "pygments_lexer": "ipython3",
   "version": "3.6.9"
  }
 },
 "nbformat": 4,
 "nbformat_minor": 4
}
